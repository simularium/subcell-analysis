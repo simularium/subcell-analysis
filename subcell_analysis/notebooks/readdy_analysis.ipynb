{
 "cells": [
  {
   "cell_type": "code",
   "execution_count": null,
   "metadata": {},
   "outputs": [],
   "source": [
    "#!/usr/bin/env python\n",
    "\n",
    "import argparse\n",
    "\n",
    "import numpy as np\n",
    "import boto3\n"
   ]
  },
  {
   "cell_type": "code",
   "execution_count": null,
   "metadata": {},
   "outputs": [],
   "source": [
    "s3 = boto3.client('s3')\n",
    "response = s3.download_file('readdy-working-bucket', 'outputs/actin_compression_velocity=15_0.h5', 'actin_compression_velocity=15_0.h5')"
   ]
  },
  {
   "cell_type": "code",
   "execution_count": null,
   "metadata": {},
   "outputs": [],
   "source": [
    "pip install git+https://github.com/vivarium-collective/vivarium-ReaDDy.git"
   ]
  },
  {
   "cell_type": "code",
   "execution_count": null,
   "metadata": {},
   "outputs": [],
   "source": []
  },
  {
   "cell_type": "code",
   "execution_count": null,
   "metadata": {},
   "outputs": [],
   "source": [
    "from subcell_analysis.readdy import (\n",
    "    ReaddyLoader,\n",
    "    ReaddyPostProcessor,\n",
    ")\n",
    "\n",
    "h5_file_path = ''\n",
    "\n",
    "\n",
    "post_processor = ReaddyPostProcessor(\n",
    "    ReaddyLoader(h5_file_path).trajectory(),\n",
    "    box_size=600.0 * np.ones(3),\n",
    ")\n",
    "fiber_chain_ids = post_processor.linear_fiber_chain_ids(\n",
    "    start_particle_phrases=[\"pointed\"],\n",
    "    other_particle_types=[\n",
    "        \"actin#\",\n",
    "        \"actin#ATP_\",\n",
    "        \"actin#mid_\",\n",
    "        \"actin#mid_ATP_\",\n",
    "        \"actin#fixed_\",\n",
    "        \"actin#fixed_ATP_\",\n",
    "        \"actin#mid_fixed_\",\n",
    "        \"actin#mid_fixed_ATP_\",\n",
    "        \"actin#barbed_\",\n",
    "        \"actin#barbed_ATP_\",\n",
    "        \"actin#fixed_barbed_\",\n",
    "        \"actin#fixed_barbed_ATP_\",\n",
    "    ],\n",
    "    polymer_number_range=5,\n",
    ")\n",
    "axis_positions, _ = post_processor.linear_fiber_axis_positions(\n",
    "    fiber_chain_ids=fiber_chain_ids,\n",
    "    ideal_positions=np.array(\n",
    "        [\n",
    "            [24.738, 20.881, 26.671],\n",
    "            [27.609, 24.061, 27.598],\n",
    "            [30.382, 21.190, 25.725],\n",
    "        ]\n",
    "    ),\n",
    "    ideal_vector_to_axis=np.array(\n",
    "        [-0.01056751, -1.47785105, -0.65833209],\n",
    "    ),\n",
    ")\n",
    "fiber_points = post_processor.linear_fiber_control_points(\n",
    "    axis_positions=axis_positions,\n",
    "    segment_length=10.0,\n",
    ")\n",
    "print(fiber_points)"
   ]
  },
  {
   "cell_type": "code",
   "execution_count": null,
   "metadata": {},
   "outputs": [],
   "source": []
  }
 ],
 "metadata": {
  "kernelspec": {
   "display_name": "subcell-analysis",
   "language": "python",
   "name": "python3"
  },
  "language_info": {
   "codemirror_mode": {
    "name": "ipython",
    "version": 3
   },
   "file_extension": ".py",
   "mimetype": "text/x-python",
   "name": "python",
   "nbconvert_exporter": "python",
   "pygments_lexer": "ipython3",
   "version": "3.11.3 (main, May 15 2023, 18:01:31) [Clang 14.0.6 ]"
  },
  "vscode": {
   "interpreter": {
    "hash": "d558620a2403be4c2958b608989a9fc85658cf9867c13a1b5b0a1011c0ea0956"
   }
  }
 },
 "nbformat": 4,
 "nbformat_minor": 2
}
