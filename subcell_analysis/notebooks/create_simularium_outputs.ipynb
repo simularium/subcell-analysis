{
 "cells": [
  {
   "cell_type": "markdown",
   "metadata": {},
   "source": [
    "## Generate Simularium Outputs"
   ]
  },
  {
   "cell_type": "code",
   "execution_count": null,
   "metadata": {},
   "outputs": [],
   "source": [
    "import boto3\n",
    "import pandas as pd\n",
    "import numpy as np\n",
    "from subcell_analysis.cytosim.post_process_cytosim import cytosim_to_simularium\n",
    "from subcell_analysis.compression_analysis import COMPRESSIONMETRIC"
   ]
  },
  {
   "cell_type": "code",
   "execution_count": null,
   "metadata": {},
   "outputs": [],
   "source": [
    "from simulariumio.cytosim import CytosimConverter\n",
    "from simulariumio import ScatterPlotData, TrajectoryConverter"
   ]
  },
  {
   "cell_type": "code",
   "execution_count": null,
   "metadata": {},
   "outputs": [],
   "source": [
    "num_repeats = 5\n",
    "config_id = 4"
   ]
  },
  {
   "cell_type": "markdown",
   "metadata": {},
   "source": [
    "Download files (only needs to be done once)"
   ]
  },
  {
   "cell_type": "code",
   "execution_count": null,
   "metadata": {},
   "outputs": [],
   "source": [
    "s3_client = boto3.client(\"s3\")\n",
    "for repeat in range(num_repeats):\n",
    "    s3_client.download_file(\"cytosim-working-bucket\", f\"vary_compress_rate0006/outputs/{repeat}/fiber_segment_curvature.txt\", f\"data/fiber_segment_curvature_{repeat}.txt\")"
   ]
  },
  {
   "cell_type": "markdown",
   "metadata": {},
   "source": [
    "### Process single repeat"
   ]
  },
  {
   "cell_type": "code",
   "execution_count": null,
   "metadata": {},
   "outputs": [],
   "source": [
    "repeat = 0\n",
    "input_file_path = f\"data/fiber_segment_curvature_{repeat}.txt\"\n",
    "\n",
    "box_size = 3.0\n",
    "scale_factor = 100\n",
    "fiber_data = cytosim_to_simularium(input_file_path, box_size=box_size, scale_factor=scale_factor)"
   ]
  },
  {
   "cell_type": "markdown",
   "metadata": {},
   "source": [
    "Create cytosim converter object"
   ]
  },
  {
   "cell_type": "code",
   "execution_count": null,
   "metadata": {},
   "outputs": [],
   "source": [
    "cytosim_converter = CytosimConverter(fiber_data)"
   ]
  },
  {
   "cell_type": "markdown",
   "metadata": {},
   "source": [
    "Read metric data"
   ]
  },
  {
   "cell_type": "code",
   "execution_count": null,
   "metadata": {},
   "outputs": [],
   "source": [
    "df_path = f\"dataframes/actin_forces{config_id}_{repeat}_compression_metrics.csv\"\n",
    "df = pd.read_csv(df_path)"
   ]
  },
  {
   "cell_type": "markdown",
   "metadata": {},
   "source": [
    "Add metric plots"
   ]
  },
  {
   "cell_type": "code",
   "execution_count": null,
   "metadata": {},
   "outputs": [],
   "source": [
    "plot_metrics = [COMPRESSIONMETRIC.AVERAGE_PERP_DISTANCE, COMPRESSIONMETRIC.TOTAL_FIBER_TWIST, COMPRESSIONMETRIC.SUM_BENDING_ENERGY, COMPRESSIONMETRIC.PEAK_ASYMMETRY, COMPRESSIONMETRIC.NON_COPLANARITY]"
   ]
  },
  {
   "cell_type": "code",
   "execution_count": null,
   "metadata": {},
   "outputs": [],
   "source": [
    "for metric in plot_metrics:\n",
    "    metric_by_time = df.groupby([\"time\"])[metric.value].mean()\n",
    "    cytosim_converter.add_plot(\n",
    "    ScatterPlotData(\n",
    "        title=f\"{metric} over time\",\n",
    "        xaxis_title=\"Time\",\n",
    "        yaxis_title=metric.value,\n",
    "        xtrace=np.arange(len(metric_by_time))*1E-5,\n",
    "        ytraces={\n",
    "            f\"repeat {repeat}\": metric_by_time,\n",
    "        },\n",
    "    )\n",
    ")"
   ]
  },
  {
   "cell_type": "markdown",
   "metadata": {},
   "source": [
    "Save converted data"
   ]
  },
  {
   "cell_type": "code",
   "execution_count": null,
   "metadata": {},
   "outputs": [],
   "source": [
    "cytosim_converter.save(f\"outputs/vary_compress_rate_0006_repeat_{repeat}\")"
   ]
  },
  {
   "cell_type": "markdown",
   "metadata": {},
   "source": [
    "### Process multiple repeats"
   ]
  },
  {
   "cell_type": "code",
   "execution_count": null,
   "metadata": {},
   "outputs": [],
   "source": [
    "box_size = 3.0\n",
    "scale_factor = 100\n",
    "colors = [\"#F0F0F0\", \"#0000FF\", \"#FF0000\", \"#00FF00\", \"#FF00FF\"]"
   ]
  },
  {
   "cell_type": "markdown",
   "metadata": {},
   "source": [
    "Create initial trajectory data object"
   ]
  },
  {
   "cell_type": "code",
   "execution_count": null,
   "metadata": {},
   "outputs": [],
   "source": [
    "input_file_path = f\"data/fiber_segment_curvature_0.txt\"\n",
    "fiber_data = cytosim_to_simularium(input_file_path, box_size=box_size, scale_factor=scale_factor, color=colors[0], actin_number=0)\n",
    "cytosim_converter = CytosimConverter(fiber_data)\n",
    "\n",
    "trajectory_data = cytosim_converter._data"
   ]
  },
  {
   "cell_type": "markdown",
   "metadata": {},
   "source": [
    "Append additional repeats to trajectory data object"
   ]
  },
  {
   "cell_type": "code",
   "execution_count": null,
   "metadata": {},
   "outputs": [],
   "source": [
    "for repeat in range(1, num_repeats):\n",
    "    input_file_path = f\"data/fiber_segment_curvature_{repeat}.txt\"\n",
    "    fiber_data = cytosim_to_simularium(input_file_path, box_size=box_size, scale_factor=scale_factor, color=colors[repeat], actin_number=repeat)\n",
    "    cytosim_converter = CytosimConverter(fiber_data)\n",
    "    new_agent_data = cytosim_converter._data.agent_data\n",
    "\n",
    "    trajectory_data.append_agents(new_agent_data)"
   ]
  },
  {
   "cell_type": "code",
   "execution_count": null,
   "metadata": {},
   "outputs": [],
   "source": [
    "all_repeats_converter = TrajectoryConverter(trajectory_data)"
   ]
  },
  {
   "cell_type": "markdown",
   "metadata": {},
   "source": [
    "### Add plots for all repeats"
   ]
  },
  {
   "cell_type": "code",
   "execution_count": null,
   "metadata": {},
   "outputs": [],
   "source": [
    "plot_metrics = [COMPRESSIONMETRIC.AVERAGE_PERP_DISTANCE, COMPRESSIONMETRIC.TOTAL_FIBER_TWIST, COMPRESSIONMETRIC.SUM_BENDING_ENERGY, COMPRESSIONMETRIC.PEAK_ASYMMETRY, COMPRESSIONMETRIC.NON_COPLANARITY]"
   ]
  },
  {
   "cell_type": "markdown",
   "metadata": {},
   "source": [
    "Get metrics for all repeats"
   ]
  },
  {
   "cell_type": "code",
   "execution_count": null,
   "metadata": {},
   "outputs": [],
   "source": [
    "df_list = []\n",
    "for repeat in range(num_repeats):\n",
    "    df_path = f\"dataframes/actin_forces{config_id}_{repeat}_compression_metrics.csv\"\n",
    "    df = pd.read_csv(df_path)   \n",
    "    df[\"repeat\"] = repeat\n",
    "    df_list.append(df)\n",
    "df_all = pd.concat(df_list)"
   ]
  },
  {
   "cell_type": "markdown",
   "metadata": {},
   "source": [
    "Add plots to converter object"
   ]
  },
  {
   "cell_type": "code",
   "execution_count": null,
   "metadata": {},
   "outputs": [],
   "source": [
    "for metric in plot_metrics:\n",
    "    ytraces = {}\n",
    "    for repeat, df_repeat in df_all.groupby(\"repeat\"):\n",
    "        ytraces[f\"repeat {repeat}\"] = df_repeat.groupby([\"time\"])[metric.value].mean()\n",
    "\n",
    "    all_repeats_converter.add_plot(\n",
    "        ScatterPlotData(\n",
    "            title=f\"{metric.value} over time\",\n",
    "            xaxis_title=\"Time\",\n",
    "            yaxis_title=metric.value,\n",
    "            xtrace=np.arange(metric_by_time.shape[0])*1E-5,\n",
    "            ytraces=ytraces,\n",
    "            render_mode=\"lines\",\n",
    "        )\n",
    "    )"
   ]
  },
  {
   "cell_type": "markdown",
   "metadata": {},
   "source": [
    "Save converted data"
   ]
  },
  {
   "cell_type": "code",
   "execution_count": null,
   "metadata": {},
   "outputs": [],
   "source": [
    "all_repeats_converter.save(f\"outputs/vary_compress_rate_0006_all_repeats\")"
   ]
  }
 ],
 "metadata": {
  "kernelspec": {
   "display_name": "subcell_analysis",
   "language": "python",
   "name": "python3"
  },
  "language_info": {
   "codemirror_mode": {
    "name": "ipython",
    "version": 3
   },
   "file_extension": ".py",
   "mimetype": "text/x-python",
   "name": "python",
   "nbconvert_exporter": "python",
   "pygments_lexer": "ipython3",
   "version": "3.10.10"
  },
  "orig_nbformat": 4
 },
 "nbformat": 4,
 "nbformat_minor": 2
}
