{
 "cells": [
  {
   "cell_type": "code",
   "execution_count": 35,
   "metadata": {},
   "outputs": [],
   "source": [
    "import boto3\n",
    "import getpass\n",
    "import numpy as np\n",
    "from preconfig import Preconfig"
   ]
  },
  {
   "cell_type": "markdown",
   "metadata": {},
   "source": [
    "# 1. Upload config files to S3"
   ]
  },
  {
   "cell_type": "code",
   "execution_count": 12,
   "metadata": {},
   "outputs": [
    {
     "name": "stdout",
     "output_type": "stream",
     "text": [
      "vary_compress_rate0000\n",
      "vary_compress_rate0000/config/vary_compress_rate0000_0.cym\n",
      "vary_compress_rate0000/config/vary_compress_rate0000_1.cym\n",
      "vary_compress_rate0000/config/vary_compress_rate0000_2.cym\n",
      "vary_compress_rate0000/config/vary_compress_rate0000_3.cym\n",
      "vary_compress_rate0000/config/vary_compress_rate0000_4.cym\n"
     ]
    }
   ],
   "source": [
    "# TODO: load template file, convert to .cym files, upload to S3\n",
    "preconfig = Preconfig()\n",
    "path_to_template = '../templates/vary_compress_rate.cym.tpl'\n",
    "configs = preconfig.parse(path_to_template,{})\n",
    "s3_client = boto3.client(\"s3\")\n",
    "bucket = 'cytosim-working-bucket'\n",
    "num_repeats = 5\n",
    "for config in configs:\n",
    "    job_name = config[:-4]\n",
    "    print(job_name)\n",
    "    with open(config, \"rb\") as buffer:\n",
    "        for repeat in range(num_repeats):\n",
    "            config_name = f'{job_name}/config/{job_name}_{repeat}.cym' \n",
    "            print(config_name)\n",
    "            s3_client.put_object(Bucket=bucket, Key=config_name, Body=buffer)\n",
    "            \n",
    "    break"
   ]
  },
  {
   "cell_type": "markdown",
   "metadata": {},
   "source": [
    "# 2a. Specify job definition"
   ]
  },
  {
   "cell_type": "code",
   "execution_count": 13,
   "metadata": {},
   "outputs": [],
   "source": [
    "job_definition_arn = \"job_definition_arn\""
   ]
  },
  {
   "cell_type": "markdown",
   "metadata": {},
   "source": [
    "# 2b. Create and register job definition"
   ]
  },
  {
   "cell_type": "code",
   "execution_count": 14,
   "metadata": {},
   "outputs": [],
   "source": [
    "from container_collection.batch.register_batch_job import register_batch_job"
   ]
  },
  {
   "cell_type": "code",
   "execution_count": 15,
   "metadata": {},
   "outputs": [],
   "source": [
    "job_definition_name = \"test-notebook-cytosim\"\n",
    "image = \"simularium/cytosim:latest\"\n",
    "vcpus = 1\n",
    "memory = 7000\n",
    "bucket_name = \"s3://cytosim-working-bucket/\"\n",
    "simulation_name = \"varycompressratezero\""
   ]
  },
  {
   "cell_type": "code",
   "execution_count": 24,
   "metadata": {},
   "outputs": [],
   "source": [
    "account = getpass.getpass()"
   ]
  },
  {
   "cell_type": "code",
   "execution_count": 25,
   "metadata": {},
   "outputs": [],
   "source": [
    "job_definition = {\n",
    "    \"jobDefinitionName\": job_definition_name,\n",
    "    \"type\": \"container\",\n",
    "    \"containerProperties\": {\n",
    "        \"image\": image,\n",
    "        \"vcpus\": vcpus,\n",
    "        \"memory\": memory,\n",
    "        \"environment\": [\n",
    "            {\"name\": \"SIMULATION_TYPE\", \"value\": \"AWS\"},\n",
    "            {\"name\": \"S3_INPUT_URL\", \"value\": bucket_name},\n",
    "            {\"name\": \"SIMULATION_NAME\", \"value\": simulation_name},\n",
    "        ],\n",
    "        \"jobRoleArn\": f\"arn:aws:iam::{account}:role/BatchJobRole\",\n",
    "    },\n",
    "}"
   ]
  },
  {
   "cell_type": "code",
   "execution_count": 26,
   "id": "b0f71e62",
   "metadata": {},
   "outputs": [
    {
     "data": {
      "text/plain": [
       "'108503617402'"
      ]
     },
     "execution_count": 26,
     "metadata": {},
     "output_type": "execute_result"
    }
   ],
   "source": [
    "account "
   ]
  },
  {
   "cell_type": "code",
   "execution_count": 27,
   "metadata": {},
   "outputs": [],
   "source": [
    "job_definition_arn = register_batch_job(job_definition)"
   ]
  },
  {
   "cell_type": "code",
   "execution_count": null,
   "id": "869acc11",
   "metadata": {},
   "outputs": [],
   "source": [
    "# Multiple Jobs\n",
    "# num_repeats = 5\n",
    "# jobs = np.empty((len(configs), num_repeats), dtype=object)\n",
    "# for index in range(len(configs)):\n",
    "#     for repeat in range(num_repeats):\n",
    "#         jobs[index][repeat] = make_batch_job(f\"cytosim-varycompressrate{index}repeat{repeat}\", 'simularium/cytosim:latest', '108503617402', 'us-west-2', 'karthikv', 1, 7000, 's3://cytosim-working-bucket/')\n",
    "#         register_batch_job(jobs[index][repeat])\n",
    "\n"
   ]
  },
  {
   "cell_type": "markdown",
   "metadata": {},
   "source": [
    "# 3. Submit job"
   ]
  },
  {
   "cell_type": "code",
   "execution_count": 30,
   "metadata": {},
   "outputs": [],
   "source": [
    "from container_collection.batch.submit_batch_job import submit_batch_job"
   ]
  },
  {
   "cell_type": "code",
   "execution_count": 31,
   "metadata": {},
   "outputs": [],
   "source": [
    "job_name = \"test-jupyter-submit-job-5312023\"\n",
    "user = \"karthikv\"\n",
    "queue = \"general\"\n",
    "size = 1"
   ]
  },
  {
   "cell_type": "code",
   "execution_count": 32,
   "metadata": {},
   "outputs": [],
   "source": [
    "job_arns = submit_batch_job(\n",
    "    name=job_name,\n",
    "    job_definition_arn=job_definition_arn,\n",
    "    user=user,\n",
    "    queue=queue,\n",
    "    size=size\n",
    ")"
   ]
  },
  {
   "cell_type": "code",
   "execution_count": 34,
   "id": "aa19c943",
   "metadata": {},
   "outputs": [
    {
     "name": "stdout",
     "output_type": "stream",
     "text": [
      "['arn:aws:batch:us-west-2:108503617402:job/2de42883-8c81-42f3-acdd-1ebba7c6467b']\n"
     ]
    }
   ],
   "source": [
    "print(job_arns)"
   ]
  },
  {
   "cell_type": "code",
   "execution_count": 36,
   "id": "03a2b601",
   "metadata": {},
   "outputs": [
    {
     "ename": "NameError",
     "evalue": "name 'make_batch_job' is not defined",
     "output_type": "error",
     "traceback": [
      "\u001b[0;31m---------------------------------------------------------------------------\u001b[0m",
      "\u001b[0;31mNameError\u001b[0m                                 Traceback (most recent call last)",
      "Cell \u001b[0;32mIn[36], line 6\u001b[0m\n\u001b[1;32m      4\u001b[0m \u001b[39mfor\u001b[39;00m index \u001b[39min\u001b[39;00m \u001b[39mrange\u001b[39m(\u001b[39mlen\u001b[39m(configs)):\n\u001b[1;32m      5\u001b[0m     \u001b[39mfor\u001b[39;00m repeat \u001b[39min\u001b[39;00m \u001b[39mrange\u001b[39m(num_repeats):\n\u001b[0;32m----> 6\u001b[0m         jobs[index][repeat] \u001b[39m=\u001b[39m make_batch_job(\u001b[39mf\u001b[39m\u001b[39m\"\u001b[39m\u001b[39mcytosim-varycompressrate\u001b[39m\u001b[39m{\u001b[39;00mindex\u001b[39m}\u001b[39;00m\u001b[39mrepeat\u001b[39m\u001b[39m{\u001b[39;00mrepeat\u001b[39m}\u001b[39;00m\u001b[39m\"\u001b[39m, \u001b[39m'\u001b[39m\u001b[39msimularium/cytosim:latest\u001b[39m\u001b[39m'\u001b[39m, \u001b[39m'\u001b[39m\u001b[39m108503617402\u001b[39m\u001b[39m'\u001b[39m, \u001b[39m'\u001b[39m\u001b[39mus-west-2\u001b[39m\u001b[39m'\u001b[39m, \u001b[39m'\u001b[39m\u001b[39mkarthikv\u001b[39m\u001b[39m'\u001b[39m, \u001b[39m1\u001b[39m, \u001b[39m7000\u001b[39m, \u001b[39m'\u001b[39m\u001b[39ms3://cytosim-working-bucket/\u001b[39m\u001b[39m'\u001b[39m)\n\u001b[1;32m      7\u001b[0m         register_batch_job(jobs[index][repeat])\n",
      "\u001b[0;31mNameError\u001b[0m: name 'make_batch_job' is not defined"
     ]
    }
   ],
   "source": [
    "# For loop for multiple job submissions here\n"
   ]
  },
  {
   "cell_type": "markdown",
   "metadata": {},
   "source": [
    "job_arns"
   ]
  },
  {
   "cell_type": "markdown",
   "metadata": {},
   "source": [
    "# 4. Monitor job status"
   ]
  },
  {
   "cell_type": "code",
   "execution_count": null,
   "metadata": {},
   "outputs": [],
   "source": [
    "# TODO: check job status, print progress bar"
   ]
  },
  {
   "cell_type": "markdown",
   "metadata": {},
   "source": [
    "# 5. Load results"
   ]
  },
  {
   "cell_type": "code",
   "execution_count": null,
   "metadata": {},
   "outputs": [],
   "source": []
  }
 ],
 "metadata": {
  "kernelspec": {
   "display_name": "subcell-analysis",
   "language": "python",
   "name": "python3"
  },
  "language_info": {
   "codemirror_mode": {
    "name": "ipython",
    "version": 3
   },
   "file_extension": ".py",
   "mimetype": "text/x-python",
   "name": "python",
   "nbconvert_exporter": "python",
   "pygments_lexer": "ipython3",
   "version": "3.10.11"
  },
  "vscode": {
   "interpreter": {
    "hash": "d558620a2403be4c2958b608989a9fc85658cf9867c13a1b5b0a1011c0ea0956"
   }
  }
 },
 "nbformat": 4,
 "nbformat_minor": 5
}
