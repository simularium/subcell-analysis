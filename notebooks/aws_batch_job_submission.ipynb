{
 "cells": [
  {
   "cell_type": "code",
   "execution_count": null,
   "id": "c376385c",
   "metadata": {},
   "outputs": [],
   "source": [
    "import boto3\n",
    "import getpass\n",
    "import numpy as np\n",
    "from preconfig import Preconfig"
   ]
  },
  {
   "attachments": {},
   "cell_type": "markdown",
   "id": "43d95bcd",
   "metadata": {},
   "source": [
    "# 1. Upload config files to S3"
   ]
  },
  {
   "cell_type": "code",
   "execution_count": null,
   "id": "69f17583",
   "metadata": {},
   "outputs": [],
   "source": [
    "# Preconfig class allows us to parse a template file and generate a list of config files.\n",
    "# Two loops puts the generated config files for a given number of repeats in S3.\n",
    "preconfig = Preconfig()\n",
    "path_to_template = '../templates/vary_compress_rate.cym.tpl'\n",
    "configs = preconfig.parse(path_to_template,{})\n",
    "s3_client = boto3.client(\"s3\")\n",
    "bucket = 'cytosim-working-bucket'\n",
    "num_repeats = 5\n",
    "job_names = []\n",
    "buffered = np.empty((len(configs)), dtype=object)\n",
    "for index, config in enumerate(configs):\n",
    "    job_name = config[:-4]\n",
    "    job_names.append(job_name)\n",
    "    for repeat in range(num_repeats):\n",
    "        opened_config = open(config, \"rb\")\n",
    "        config_name = f'{job_name}/config/{job_name}_{repeat}.cym' \n",
    "        s3_client.put_object(Bucket=bucket, Key=config_name, Body=opened_config)\n",
    "job_names"
   ]
  },
  {
   "attachments": {},
   "cell_type": "markdown",
   "id": "30b70ebe",
   "metadata": {},
   "source": [
    "# 2a. Specify job definition"
   ]
  },
  {
   "cell_type": "code",
   "execution_count": null,
   "id": "5c598032",
   "metadata": {},
   "outputs": [],
   "source": [
    "job_definition_arn = \"job_definition_arn\""
   ]
  },
  {
   "attachments": {},
   "cell_type": "markdown",
   "id": "4a48f9ff",
   "metadata": {},
   "source": [
    "# 2b. Create and register job definition"
   ]
  },
  {
   "cell_type": "code",
   "execution_count": null,
   "id": "aff823d4",
   "metadata": {},
   "outputs": [],
   "source": [
    "# Parameters for a job definition\n",
    "from container_collection.batch.register_batch_job import register_batch_job\n",
    "from container_collection.batch.make_batch_job import make_batch_job\n",
    "job_definition_name = \"karthikv_cytosim_varycompressrate\"\n",
    "image = \"simularium/cytosim:latest\"\n",
    "vcpus = 1\n",
    "memory = 7000\n",
    "bucket_name = \"s3://cytosim-working-bucket/\"\n",
    "simulation_name = ''"
   ]
  },
  {
   "cell_type": "code",
   "execution_count": null,
   "id": "5fb3b1ac",
   "metadata": {},
   "outputs": [],
   "source": [
    "account = getpass.getpass()"
   ]
  },
  {
   "cell_type": "code",
   "execution_count": null,
   "id": "d595987f",
   "metadata": {},
   "outputs": [],
   "source": [
    "# Creating job definitions with make_batch_job\n",
    "# Submitting job definitions with register_batch_job\n",
    "jobs = np.empty(len(configs))\n",
    "job_definitions = np.empty((len(configs)), dtype=object)\n",
    "for index in range(len(configs)):\n",
    "    print(index)\n",
    "    simulation_name = job_names[index]\n",
    "    print(simulation_name)\n",
    "    job_definition = make_batch_job(f\"cytosim-test-varycompressrate-{str(index)}\", 'simularium/cytosim:latest', account, 'us-west-2', 'karthikv', 1, 7000, 's3://cytosim-working-bucket/')\n",
    "    registered_jd = register_batch_job(job_definition)\n",
    "    job_definitions[index] = registered_jd\n",
    "    break\n",
    "\n",
    "        \n"
   ]
  },
  {
   "attachments": {},
   "cell_type": "markdown",
   "id": "823b80f9",
   "metadata": {},
   "source": [
    "# 3. Submit job"
   ]
  },
  {
   "cell_type": "code",
   "execution_count": null,
   "id": "3af1bc47",
   "metadata": {},
   "outputs": [],
   "source": [
    "# Submit batch job allows us to submit a batch job with a given job definition and job name.\n",
    "from container_collection.batch.submit_batch_job import submit_batch_job"
   ]
  },
  {
   "cell_type": "code",
   "execution_count": null,
   "id": "16255a76",
   "metadata": {},
   "outputs": [],
   "source": [
    "new_configs = configs[:4]\n",
    "new_configs"
   ]
  },
  {
   "cell_type": "code",
   "execution_count": null,
   "id": "34176574",
   "metadata": {},
   "outputs": [],
   "source": [
    "# Parameters for our batch job [size indicates our desired number of repeats]\n",
    "job_name = \"cytosim-varycompressrate\"\n",
    "user = \"karthikv\"\n",
    "queue = \"general_on_demand\"\n",
    "size = 5"
   ]
  },
  {
   "cell_type": "code",
   "execution_count": null,
   "id": "bb3c8f5f",
   "metadata": {},
   "outputs": [],
   "source": [
    "new_configs\n",
    "job_name"
   ]
  },
  {
   "cell_type": "code",
   "execution_count": null,
   "id": "2943ecdf",
   "metadata": {},
   "outputs": [],
   "source": [
    "# Loop to submit our batch jobs [index * size for total number of simulations]\n",
    "for index in range(len(new_configs)):\n",
    "    print(index)\n",
    "    print(f'{job_name}-completerun-config{index}')\n",
    "    submit_batch_job(name=f'{job_name}-completerun-config{index}', job_definition_arn=job_definitions[index],user=user,queue=queue,size=size)\n",
    "    "
   ]
  },
  {
   "attachments": {},
   "cell_type": "markdown",
   "id": "b2eb43e8",
   "metadata": {},
   "source": [
    "# 4. Monitor job status"
   ]
  },
  {
   "cell_type": "code",
   "execution_count": null,
   "id": "3dcadbc8",
   "metadata": {},
   "outputs": [],
   "source": [
    "# TODO: check job status, print progress bar\n",
    "from container_collection.batch.check_batch_job import check_batch_job\n"
   ]
  },
  {
   "attachments": {},
   "cell_type": "markdown",
   "id": "45ca5fb9",
   "metadata": {},
   "source": [
    "# 5. Load results"
   ]
  },
  {
   "cell_type": "code",
   "execution_count": null,
   "id": "dd466e06",
   "metadata": {},
   "outputs": [],
   "source": [
    "from subcell_analysis.cytosim.post_process_cytosim import create_dataframes_for_repeats\n",
    "import pandas as pd"
   ]
  },
  {
   "cell_type": "code",
   "execution_count": null,
   "id": "ebf465a8",
   "metadata": {},
   "outputs": [],
   "source": [
    "bucket_name = 'cytosim-working-bucket'\n",
    "num_repeats = 5\n",
    "num_velocities = 7\n",
    "configs = [f\"vary_compress_rate000{num}\" for num in range(2, num_velocities)]"
   ]
  },
  {
   "cell_type": "code",
   "execution_count": null,
   "id": "dfb21524",
   "metadata": {},
   "outputs": [],
   "source": [
    "%load_ext autoreload\n",
    "%autoreload 2"
   ]
  },
  {
   "cell_type": "code",
   "execution_count": null,
   "id": "57cf85d4",
   "metadata": {},
   "outputs": [],
   "source": [
    "create_dataframes_for_repeats(bucket_name, num_repeats, configs)"
   ]
  },
  {
   "cell_type": "code",
   "execution_count": null,
   "id": "6a4f89e4",
   "metadata": {},
   "outputs": [],
   "source": [
    "from subcell_analysis.compression_workflow_runner import run_workflow,  plot_metric, plot_metric_list\n",
    "from subcell_analysis.compression_analysis import (\n",
    "    COMPRESSIONMETRIC,\n",
    ")"
   ]
  },
  {
   "cell_type": "code",
   "execution_count": null,
   "id": "fbca29f9",
   "metadata": {},
   "outputs": [],
   "source": [
    "config_inds = [3, 4]\n",
    "outputs = [[None] * num_repeats] * len(config_inds)"
   ]
  },
  {
   "cell_type": "code",
   "execution_count": null,
   "id": "08e0045a",
   "metadata": {},
   "outputs": [],
   "source": [
    "#TODO: Run metric calculations on repeats.\n",
    "num_repeats = 5\n",
    "outputs = [None] * num_repeats\n",
    "for repeat in range(num_repeats):\n",
    "    all_output = pd.read_csv(f'dataframes/actin-forces0_{repeat}.csv')\n",
    "    outputs[repeat] = run_workflow(all_output, [COMPRESSIONMETRIC.PEAK_ASYMMETRY, COMPRESSIONMETRIC.AVERAGE_PERP_DISTANCE, COMPRESSIONMETRIC.NON_COPLANARITY, COMPRESSIONMETRIC.TOTAL_FIBER_TWIST, COMPRESSIONMETRIC.SUM_BENDING_ENERGY])"
   ]
  },
  {
   "cell_type": "code",
   "execution_count": null,
   "id": "9bb4c1b9",
   "metadata": {},
   "outputs": [],
   "source": [
    "import matplotlib.pyplot as plt\n",
    "config_ind = 0\n",
    "metrics = [COMPRESSIONMETRIC.AVERAGE_PERP_DISTANCE, COMPRESSIONMETRIC.TOTAL_FIBER_TWIST, COMPRESSIONMETRIC.SUM_BENDING_ENERGY, COMPRESSIONMETRIC.PEAK_ASYMMETRY, COMPRESSIONMETRIC.NON_COPLANARITY]\n",
    "for metric in metrics:\n",
    "    fig, ax = plt.subplots()\n",
    "    for repeat in range(num_repeats):\n",
    "        metric_by_time = outputs[config_ind][repeat].groupby([\"time\"])[metric.value].mean()\n",
    "        ax.plot(metric_by_time, label=f\"config ind {config_ind} repeat {repeat}\")\n",
    "    ax.legend()\n",
    "    ax.set_xlabel(\"time\")\n",
    "    ax.set_ylabel(metric.value)\n",
    "    ax.set_title(f\"{metric.value} by time\")"
   ]
  },
  {
   "attachments": {},
   "cell_type": "markdown",
   "id": "c6ac7890",
   "metadata": {},
   "source": [
    "### Plot pacmap embedding"
   ]
  },
  {
   "cell_type": "code",
   "execution_count": null,
   "id": "645ffa63",
   "metadata": {},
   "outputs": [],
   "source": [
    "import numpy as np\n",
    "import pandas as pd\n",
    "from subcell_analysis.compression_analysis import get_pacmap_embedding\n",
    "from pacmap import PaCMAP\n",
    "from scipy import interpolate as spinterp"
   ]
  },
  {
   "attachments": {},
   "cell_type": "markdown",
   "id": "b1e0b260",
   "metadata": {},
   "source": [
    "#### create k x t x n x 3 numpy array of fiber points"
   ]
  },
  {
   "cell_type": "code",
   "execution_count": null,
   "id": "f550fe16",
   "metadata": {},
   "outputs": [],
   "source": [
    "num_repeats = 5\n",
    "df_list = []\n",
    "configs = [3, 4]\n",
    "for config in configs:\n",
    "    for repeat in range(num_repeats):\n",
    "        df = pd.read_csv(f'dataframes/actin_forces{config}_{repeat}.csv')\n",
    "        df[\"repeat\"] = repeat\n",
    "        df[\"config\"] = config\n",
    "        df_list.append(df)\n",
    "df_all = pd.concat(df_list)"
   ]
  },
  {
   "cell_type": "code",
   "execution_count": null,
   "id": "0967bb7f",
   "metadata": {},
   "outputs": [],
   "source": [
    "df_all.to_csv(\"dataframes/all_fibers_configs_3_4.csv\")"
   ]
  },
  {
   "cell_type": "code",
   "execution_count": null,
   "id": "d47e38f5",
   "metadata": {},
   "outputs": [],
   "source": [
    "num_monomers = 100\n",
    "num_timepoints = 101\n",
    "all_config_repeats = []\n",
    "cols_to_interp = [\"xpos\", \"ypos\", \"zpos\"]\n",
    "for config, df_config in df_all.groupby(\"config\"):\n",
    "    for repeat, df_repeat in df_config.groupby(\"repeat\"):\n",
    "        all_times = []\n",
    "        for time, df_time in df_repeat.groupby(\"time\"):\n",
    "            # interpolate xpos, ypos, zpos to num_monomers\n",
    "            X = df_time[cols_to_interp].values\n",
    "            t = np.linspace(0, 1, X.shape[0])\n",
    "            F = spinterp.interp1d(t, X.T, bounds_error=False, fill_value=\"extrapolate\")\n",
    "            u = np.linspace(0, 1, num_monomers)\n",
    "            all_times.append(F(u).T)\n",
    "        all_times = np.array(all_times)\n",
    "        interp_timepoints = np.around(len(all_times) / num_timepoints * np.arange(num_timepoints)).astype(int)\n",
    "        all_config_repeats.append(np.array(all_times)[interp_timepoints,:,:])\n",
    "all_config_repeats = np.array(all_config_repeats)"
   ]
  },
  {
   "cell_type": "code",
   "execution_count": null,
   "id": "92f26259",
   "metadata": {},
   "outputs": [],
   "source": [
    "embedding = PaCMAP(n_components=2, n_neighbors=None, MN_ratio=0.5, FP_ratio=2.0)"
   ]
  },
  {
   "cell_type": "code",
   "execution_count": null,
   "id": "1cf6cfd3",
   "metadata": {},
   "outputs": [],
   "source": [
    "reshaped_metrics = all_config_repeats.reshape(all_config_repeats.shape[0], -1)"
   ]
  },
  {
   "cell_type": "code",
   "execution_count": null,
   "id": "73f90a12",
   "metadata": {},
   "outputs": [],
   "source": [
    "embed_pos = embedding.fit_transform(reshaped_metrics)"
   ]
  },
  {
   "attachments": {},
   "cell_type": "markdown",
   "id": "62007a83",
   "metadata": {},
   "source": [
    "Plot embeddings"
   ]
  },
  {
   "cell_type": "code",
   "execution_count": null,
   "id": "b21df4a3",
   "metadata": {},
   "outputs": [],
   "source": [
    "import matplotlib.pyplot as plt"
   ]
  },
  {
   "cell_type": "code",
   "execution_count": null,
   "id": "c1870876",
   "metadata": {},
   "outputs": [],
   "source": [
    "fig, ax = plt.subplots()\n",
    "configs = [3, 4]\n",
    "for ct, config in enumerate(configs):\n",
    "    inds = ct * num_repeats + np.arange(num_repeats)\n",
    "    ax.scatter(embed_pos[inds, 0], embed_pos[inds, 1], label=f\"config {config}\")\n",
    "ax.set_xlabel(\"embedding 1\")\n",
    "ax.set_ylabel(\"embedding 2\")\n",
    "ax.set_title(\"PaCMAP embedding of all repeats\")\n",
    "ax.legend()\n",
    "plt.show()"
   ]
  }
 ],
 "metadata": {
  "kernelspec": {
   "display_name": "subcell-analysis",
   "language": "python",
   "name": "python3"
  },
  "language_info": {
   "codemirror_mode": {
    "name": "ipython",
    "version": 3
   },
   "file_extension": ".py",
   "mimetype": "text/x-python",
   "name": "python",
   "nbconvert_exporter": "python",
   "pygments_lexer": "ipython3",
   "version": "3.10.10"
  },
  "vscode": {
   "interpreter": {
    "hash": "d558620a2403be4c2958b608989a9fc85658cf9867c13a1b5b0a1011c0ea0956"
   }
  }
 },
 "nbformat": 4,
 "nbformat_minor": 5
}
