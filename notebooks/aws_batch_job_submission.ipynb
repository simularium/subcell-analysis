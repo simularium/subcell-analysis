{
 "cells": [
  {
   "cell_type": "code",
   "execution_count": null,
   "metadata": {},
   "outputs": [],
   "source": [
    "import boto3\n",
    "import getpass"
   ]
  },
  {
   "cell_type": "markdown",
   "metadata": {},
   "source": [
    "# 1. Upload config files to S3"
   ]
  },
  {
   "cell_type": "code",
   "execution_count": null,
   "metadata": {},
   "outputs": [],
   "source": [
    "# TODO: load template file, convert to .cym files, upload to S3"
   ]
  },
  {
   "cell_type": "markdown",
   "metadata": {},
   "source": [
    "# 2a. Specify job definition"
   ]
  },
  {
   "cell_type": "code",
   "execution_count": null,
   "metadata": {},
   "outputs": [],
   "source": [
    "job_definition_arn = \"job_definition_arn\""
   ]
  },
  {
   "cell_type": "markdown",
   "metadata": {},
   "source": [
    "# 2b. Create and register job definition"
   ]
  },
  {
   "cell_type": "code",
   "execution_count": null,
   "metadata": {},
   "outputs": [],
   "source": [
    "from container_collection.batch.register_batch_job import register_batch_job"
   ]
  },
  {
   "cell_type": "code",
   "execution_count": null,
   "metadata": {},
   "outputs": [],
   "source": [
    "job_definition_name = \"test-notebook-cytosim\"\n",
    "image = \"simularium/cytosim:latest\"\n",
    "vcpus = 1\n",
    "memory = 7000\n",
    "bucket_name = \"s3://cytosim-working-bucket/\"\n",
    "simulation_name = \"varycompressratezero\""
   ]
  },
  {
   "cell_type": "code",
   "execution_count": null,
   "metadata": {},
   "outputs": [],
   "source": [
    "account = getpass.getpass()"
   ]
  },
  {
   "cell_type": "code",
   "execution_count": null,
   "metadata": {},
   "outputs": [],
   "source": [
    "job_definition = {\n",
    "    \"jobDefinitionName\": job_definition_name,\n",
    "    \"type\": \"container\",\n",
    "    \"containerProperties\": {\n",
    "        \"image\": image,\n",
    "        \"vcpus\": vcpus,\n",
    "        \"memory\": memory,\n",
    "        \"environment\": [\n",
    "            {\"name\": \"SIMULATION_TYPE\", \"value\": \"AWS\"},\n",
    "            {\"name\": \"S3_INPUT_URL\", \"value\": bucket_name},\n",
    "            {\"name\": \"SIMULATION_NAME\", \"value\": simulation_name},\n",
    "        ],\n",
    "        \"jobRoleArn\": f\"arn:aws:iam::{account}:role/BatchJobRole\",\n",
    "    },\n",
    "}"
   ]
  },
  {
   "cell_type": "code",
   "execution_count": null,
   "metadata": {},
   "outputs": [],
   "source": [
    "job_definition_arn = register_batch_job(job_definition)"
   ]
  },
  {
   "cell_type": "markdown",
   "metadata": {},
   "source": [
    "# 3. Submit job"
   ]
  },
  {
   "cell_type": "code",
   "execution_count": null,
   "metadata": {},
   "outputs": [],
   "source": [
    "from container_collection.batch.submit_batch_job import submit_batch_job"
   ]
  },
  {
   "cell_type": "code",
   "execution_count": null,
   "metadata": {},
   "outputs": [],
   "source": [
    "job_name = \"test-jupyter-submit-job\"\n",
    "user = \"jessicay\"\n",
    "queue = \"general\"\n",
    "size = 1"
   ]
  },
  {
   "cell_type": "code",
   "execution_count": null,
   "metadata": {},
   "outputs": [],
   "source": [
    "job_arns = submit_batch_job(\n",
    "    name=job_name,\n",
    "    job_definition_arn=job_definition_arn,\n",
    "    user=user,\n",
    "    queue=queue,\n",
    "    size=size\n",
    ")"
   ]
  },
  {
   "cell_type": "markdown",
   "metadata": {},
   "source": [
    "job_arns"
   ]
  },
  {
   "cell_type": "markdown",
   "metadata": {},
   "source": [
    "# 4. Monitor job status"
   ]
  },
  {
   "cell_type": "code",
   "execution_count": null,
   "metadata": {},
   "outputs": [],
   "source": [
    "# TODO: check job status, print progress bar"
   ]
  },
  {
   "cell_type": "markdown",
   "metadata": {},
   "source": [
    "# 5. Load results"
   ]
  },
  {
   "cell_type": "code",
   "execution_count": null,
   "metadata": {},
   "outputs": [],
   "source": []
  }
 ],
 "metadata": {
  "language_info": {
   "name": "python",
   "pygments_lexer": "ipython3"
  }
 },
 "nbformat": 4,
 "nbformat_minor": 5
}
