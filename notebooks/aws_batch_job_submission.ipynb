{
 "cells": [
  {
   "cell_type": "code",
   "execution_count": null,
   "id": "10810799",
   "metadata": {},
   "outputs": [],
   "source": [
    "import boto3\n",
    "import getpass\n",
    "import numpy as np\n",
    "from preconfig import Preconfig\n",
    "import pandas as pd\n",
    "from pathlib import Path\n",
    "from IPython.display import Image\n",
    "from simulariumio.cytosim import CytosimConverter, CytosimData, CytosimObjectInfo\n",
    "from simulariumio import MetaData, DisplayData, DISPLAY_TYPE, ModelMetaData, InputFileData, ScatterPlotData\n"
   ]
  },
  {
   "attachments": {},
   "cell_type": "markdown",
   "id": "c548a861",
   "metadata": {},
   "source": [
    "# 1. Upload config files to S3"
   ]
  },
  {
   "cell_type": "code",
   "execution_count": null,
   "id": "4b518e68",
   "metadata": {},
   "outputs": [],
   "source": [
    "# Preconfig class allows us to parse a template file and generate a list of config files.\n",
    "# Two loops puts the generated config files for a given number of repeats in S3.\n",
    "preconfig = Preconfig()\n",
    "path_to_template = '../templates/vary_compress_rate.cym.tpl'\n",
    "configs = preconfig.parse(path_to_template,{})\n",
    "s3_client = boto3.client(\"s3\")\n",
    "bucket = 'cytosim-working-bucket'\n",
    "num_repeats = 5\n",
    "job_names = []\n",
    "buffered = np.empty((len(configs)), dtype=object)\n",
    "for index, config in enumerate(configs):\n",
    "    job_name = config[:-4]\n",
    "    job_names.append(job_name)\n",
    "    for repeat in range(num_repeats):\n",
    "        opened_config = open(config, \"rb\")\n",
    "        config_name = f'{job_name}/config/{job_name}_{repeat}.cym' \n",
    "        s3_client.put_object(Bucket=bucket, Key=config_name, Body=opened_config)\n",
    "job_names"
   ]
  },
  {
   "attachments": {},
   "cell_type": "markdown",
   "id": "a7a2a431",
   "metadata": {},
   "source": [
    "# 2a. Specify job definition"
   ]
  },
  {
   "cell_type": "code",
   "execution_count": null,
   "id": "4d457054",
   "metadata": {},
   "outputs": [],
   "source": [
    "job_definition_arn = \"job_definition_arn\""
   ]
  },
  {
   "attachments": {},
   "cell_type": "markdown",
   "id": "a5adf71a",
   "metadata": {},
   "source": [
    "# 2b. Create and register job definition"
   ]
  },
  {
   "cell_type": "code",
   "execution_count": null,
   "id": "aa6ce769",
   "metadata": {},
   "outputs": [],
   "source": [
    "# Parameters for a job definition\n",
    "from container_collection.batch.register_batch_job import register_batch_job\n",
    "job_definition_name = \"karthikv_cytosim_varycompressrate\"\n",
    "image = \"simularium/cytosim:latest\"\n",
    "vcpus = 1\n",
    "memory = 7000\n",
    "bucket_name = \"s3://cytosim-working-bucket/\"\n",
    "simulation_name = ''"
   ]
  },
  {
   "cell_type": "code",
   "execution_count": null,
   "id": "243b1159",
   "metadata": {},
   "outputs": [],
   "source": [
    "account = getpass.getpass()"
   ]
  },
  {
   "cell_type": "code",
   "execution_count": null,
   "id": "c029122a",
   "metadata": {},
   "outputs": [],
   "source": [
    "# Make batch job is a function that takes in the parameters below and returns a dictionary that is used to create a batch job. \n",
    "def make_batch_job(\n",
    "    name: str,\n",
    "    image: str,\n",
    "    account: str,\n",
    "    region: str,\n",
    "    user: str,\n",
    "    vcpus: int,\n",
    "    memory: int,\n",
    "    prefix: str\n",
    ") -> dict:\n",
    "    return {\n",
    "    \"jobDefinitionName\": f\"{user}-{name}\",\n",
    "    \"type\": \"container\",\n",
    "    \"containerProperties\": {\n",
    "        \"image\": image,\n",
    "        \"vcpus\": vcpus,\n",
    "        \"memory\": memory,\n",
    "        \"environment\": [\n",
    "            {\"name\": \"SIMULATION_TYPE\", \"value\": \"AWS\"},\n",
    "            {\"name\": \"S3_INPUT_URL\", \"value\": bucket_name},\n",
    "            {\"name\": \"SIMULATION_NAME\", \"value\": simulation_name}\n",
    "        ],\n",
    "        \"jobRoleArn\": f\"arn:aws:iam::{account}:role/BatchJobRole\",\n",
    "    },\n",
    "}"
   ]
  },
  {
   "cell_type": "code",
   "execution_count": null,
   "id": "2c06c08e",
   "metadata": {},
   "outputs": [],
   "source": [
    "# Creating job definitions with make_batch_job\n",
    "# Submitting job definitions with register_batch_job\n",
    "jobs = np.empty(len(configs))\n",
    "job_definitions = np.empty((len(configs)), dtype=object)\n",
    "for index in range(len(configs)):\n",
    "    print(index)\n",
    "    simulation_name = job_names[index]\n",
    "    print(simulation_name)\n",
    "    job_definition = make_batch_job(f\"cytosim-varycompressrate-{str(index)}\", 'simularium/cytosim:latest', account, 'us-west-2', 'karthikv', 1, 7000, 's3://cytosim-working-bucket/')\n",
    "    registered_jd = register_batch_job(job_definition)\n",
    "    job_definitions[index] = registered_jd"
   ]
  },
  {
   "attachments": {},
   "cell_type": "markdown",
   "id": "8f119ae8",
   "metadata": {},
   "source": [
    "# 3. Submit job"
   ]
  },
  {
   "cell_type": "code",
   "execution_count": null,
   "id": "5538de35",
   "metadata": {},
   "outputs": [],
   "source": [
    "# Submit batch job allows us to submit a batch job with a given job definition and job name.\n",
    "from container_collection.batch.submit_batch_job import submit_batch_job"
   ]
  },
  {
   "cell_type": "code",
   "execution_count": null,
   "id": "16255a76",
   "metadata": {},
   "outputs": [],
   "source": [
    "new_configs = configs[:4]\n",
    "new_configs"
   ]
  },
  {
   "cell_type": "code",
   "execution_count": null,
   "id": "48f9982b",
   "metadata": {},
   "outputs": [],
   "source": [
    "# Parameters for our batch job [size indicates our desired number of repeats]\n",
    "job_name = \"cytosim-varycompressrate\"\n",
    "user = \"karthikv\"\n",
    "queue = \"general_on_demand\"\n",
    "size = 5"
   ]
  },
  {
   "cell_type": "code",
   "execution_count": null,
   "id": "bb3c8f5f",
   "metadata": {},
   "outputs": [],
   "source": [
    "new_configs\n",
    "job_name"
   ]
  },
  {
   "cell_type": "code",
   "execution_count": null,
   "id": "ed76e5ca",
   "metadata": {},
   "outputs": [],
   "source": [
    "# Loop to submit our batch jobs [index * size for total number of simulations]\n",
    "for index in range(len(new_configs)):\n",
    "    print(index)\n",
    "    print(f'{job_name}-completerun-config{index}')\n",
    "    submit_batch_job(name=f'{job_name}-completerun-config{index}', job_definition_arn=job_definitions[index],user=user,queue=queue,size=size)\n",
    "    "
   ]
  },
  {
   "attachments": {},
   "cell_type": "markdown",
   "id": "6f488ac6",
   "metadata": {},
   "source": [
    "# 4. Monitor job status"
   ]
  },
  {
   "cell_type": "code",
   "execution_count": null,
   "id": "97eff920",
   "metadata": {},
   "outputs": [],
   "source": [
    "# TODO: check job status, print progress bar\n",
    "from container_collection.batch.check_batch_job import check_batch_job\n"
   ]
  },
  {
   "attachments": {},
   "cell_type": "markdown",
   "id": "93e15d9b",
   "metadata": {},
   "source": [
    "# 5. Load results"
   ]
  },
  {
   "cell_type": "code",
   "execution_count": null,
   "id": "dd466e06",
   "metadata": {},
   "outputs": [],
   "source": [
    "from subcell_analysis.cytosim.post_process_cytosim import create_dataframes_for_repeats\n",
    "import pandas as pd"
   ]
  },
  {
   "cell_type": "code",
   "execution_count": null,
   "id": "ebf465a8",
   "metadata": {},
   "outputs": [],
   "source": [
    "bucket_name = 'cytosim-working-bucket'\n",
    "num_repeats = 5\n",
    "num_velocities = 7\n",
    "configs = [f\"vary_compress_rate000{num}\" for num in range(2, num_velocities)]"
   ]
  },
  {
   "cell_type": "code",
   "execution_count": null,
   "id": "dfb21524",
   "metadata": {},
   "outputs": [],
   "source": [
    "%load_ext autoreload\n",
    "%autoreload 2"
   ]
  },
  {
   "cell_type": "code",
   "execution_count": null,
   "id": "57cf85d4",
   "metadata": {},
   "outputs": [],
   "source": [
    "create_dataframes_for_repeats(bucket_name, num_repeats, configs)"
   ]
  },
  {
   "cell_type": "code",
   "execution_count": null,
   "id": "6a4f89e4",
   "metadata": {},
   "outputs": [],
   "source": [
    "from subcell_analysis.compression_workflow_runner import run_workflow,  plot_metric, plot_metric_list\n",
    "from subcell_analysis.compression_analysis import (\n",
    "    COMPRESSIONMETRIC,\n",
    ")"
   ]
  },
  {
   "cell_type": "code",
   "execution_count": null,
   "id": "fbca29f9",
   "metadata": {},
   "outputs": [],
   "source": [
    "config_inds = [3, 4]\n",
    "outputs = [[None] * num_repeats] * len(config_inds)"
   ]
  },
  {
   "cell_type": "code",
   "execution_count": null,
   "id": "08e0045a",
   "metadata": {},
   "outputs": [],
   "source": [
    "calc_metrics = [COMPRESSIONMETRIC.PEAK_ASYMMETRY, COMPRESSIONMETRIC.AVERAGE_PERP_DISTANCE, COMPRESSIONMETRIC.NON_COPLANARITY, COMPRESSIONMETRIC.TOTAL_FIBER_TWIST, COMPRESSIONMETRIC.SUM_BENDING_ENERGY]"
   ]
  },
  {
   "cell_type": "code",
   "execution_count": null,
   "id": "4141232d",
   "metadata": {},
   "outputs": [],
   "source": [
    "for ct, config_ind in enumerate(config_inds):\n",
    "    for repeat in range(num_repeats):\n",
    "        print(f'config_ind: {config_ind}, repeat: {repeat}')\n",
    "        all_output = pd.read_csv(f'dataframes/actin_forces{config_ind}_{repeat}.csv')\n",
    "        outputs[ct][repeat] = run_workflow(all_output, calc_metrics)\n",
    "        outputs[ct][repeat].to_csv(f'dataframes/actin_forces{config_ind}_{repeat}_compression_metrics.csv')"
   ]
  },
  {
   "cell_type": "code",
   "execution_count": null,
   "id": "9bb4c1b9",
   "metadata": {},
   "outputs": [],
   "source": [
    "import matplotlib.pyplot as plt\n",
    "config_ind = 0\n",
    "metrics = [COMPRESSIONMETRIC.AVERAGE_PERP_DISTANCE, COMPRESSIONMETRIC.TOTAL_FIBER_TWIST, COMPRESSIONMETRIC.SUM_BENDING_ENERGY, COMPRESSIONMETRIC.PEAK_ASYMMETRY, COMPRESSIONMETRIC.NON_COPLANARITY]\n",
    "for metric in metrics:\n",
    "    fig, ax = plt.subplots()\n",
    "    for repeat in range(num_repeats):\n",
    "        metric_by_time = outputs[config_ind][repeat].groupby([\"time\"])[metric.value].mean()\n",
    "        ax.plot(metric_by_time, label=f\"config ind {config_ind} repeat {repeat}\")\n",
    "    ax.legend()\n",
    "    ax.set_xlabel(\"time\")\n",
    "    ax.set_ylabel(metric.value)\n",
    "    ax.set_title(f\"{metric.value} by time\")"
   ]
  },
  {
   "attachments": {},
   "cell_type": "markdown",
   "id": "c6ac7890",
   "metadata": {},
   "source": [
    "### Plot pacmap embedding"
   ]
  },
  {
   "cell_type": "code",
   "execution_count": null,
   "id": "645ffa63",
   "metadata": {},
   "outputs": [],
   "source": [
    "import numpy as np\n",
    "import pandas as pd\n",
    "from subcell_analysis.compression_analysis import get_pacmap_embedding\n",
    "from pacmap import PaCMAP\n",
    "from scipy import interpolate as spinterp"
   ]
  },
  {
   "attachments": {},
   "cell_type": "markdown",
   "id": "b1e0b260",
   "metadata": {},
   "source": [
    "#### create k x t x n x 3 numpy array of fiber points"
   ]
  },
  {
   "cell_type": "code",
   "execution_count": null,
   "id": "f550fe16",
   "metadata": {},
   "outputs": [],
   "source": [
    "num_repeats = 5\n",
    "df_list = []\n",
    "configs = [3, 4]\n",
    "for config in configs:\n",
    "    for repeat in range(num_repeats):\n",
    "        df = pd.read_csv(f'dataframes/actin_forces{config}_{repeat}.csv')\n",
    "        df[\"repeat\"] = repeat\n",
    "        df[\"config\"] = config\n",
    "        df_list.append(df)\n",
    "df_all = pd.concat(df_list)"
   ]
  },
  {
   "cell_type": "code",
   "execution_count": null,
   "id": "0967bb7f",
   "metadata": {},
   "outputs": [],
   "source": [
    "df_all.to_csv(\"dataframes/all_fibers_configs_3_4.csv\")"
   ]
  },
  {
   "cell_type": "code",
   "execution_count": null,
   "id": "d47e38f5",
   "metadata": {},
   "outputs": [],
   "source": [
    "num_monomers = 100\n",
    "num_timepoints = 101\n",
    "all_config_repeats = []\n",
    "cols_to_interp = [\"xpos\", \"ypos\", \"zpos\"]\n",
    "for config, df_config in df_all.groupby(\"config\"):\n",
    "    for repeat, df_repeat in df_config.groupby(\"repeat\"):\n",
    "        all_times = []\n",
    "        for time, df_time in df_repeat.groupby(\"time\"):\n",
    "            # interpolate xpos, ypos, zpos to num_monomers\n",
    "            X = df_time[cols_to_interp].values\n",
    "            t = np.linspace(0, 1, X.shape[0])\n",
    "            F = spinterp.interp1d(t, X.T, bounds_error=False, fill_value=\"extrapolate\")\n",
    "            u = np.linspace(0, 1, num_monomers)\n",
    "            all_times.append(F(u).T)\n",
    "        all_times = np.array(all_times)\n",
    "        interp_timepoints = np.around(len(all_times) / num_timepoints * np.arange(num_timepoints)).astype(int)\n",
    "        all_config_repeats.append(np.array(all_times)[interp_timepoints,:,:])\n",
    "all_config_repeats = np.array(all_config_repeats)"
   ]
  },
  {
   "cell_type": "code",
   "execution_count": null,
   "id": "92f26259",
   "metadata": {},
   "outputs": [],
   "source": [
    "embedding = PaCMAP(n_components=2, n_neighbors=None, MN_ratio=0.5, FP_ratio=2.0)"
   ]
  },
  {
   "cell_type": "code",
   "execution_count": null,
   "id": "1cf6cfd3",
   "metadata": {},
   "outputs": [],
   "source": [
    "reshaped_metrics = all_config_repeats.reshape(all_config_repeats.shape[0], -1)"
   ]
  },
  {
   "cell_type": "code",
   "execution_count": null,
   "id": "73f90a12",
   "metadata": {},
   "outputs": [],
   "source": [
    "embed_pos = embedding.fit_transform(reshaped_metrics)"
   ]
  },
  {
   "attachments": {},
   "cell_type": "markdown",
   "id": "62007a83",
   "metadata": {},
   "source": [
    "Plot embeddings"
   ]
  },
  {
   "cell_type": "code",
   "execution_count": null,
   "id": "b21df4a3",
   "metadata": {},
   "outputs": [],
   "source": [
    "import matplotlib.pyplot as plt"
   ]
  },
  {
   "cell_type": "code",
   "execution_count": null,
   "id": "c1870876",
   "metadata": {},
   "outputs": [],
   "source": [
    "fig, ax = plt.subplots()\n",
    "configs = [3, 4]\n",
    "for ct, config in enumerate(configs):\n",
    "    inds = ct * num_repeats + np.arange(num_repeats)\n",
    "    ax.scatter(embed_pos[inds, 0], embed_pos[inds, 1], label=f\"config {config}\")\n",
    "ax.set_xlabel(\"embedding 1\")\n",
    "ax.set_ylabel(\"embedding 2\")\n",
    "ax.set_title(\"PaCMAP embedding of all repeats\")\n",
    "ax.legend()\n",
    "plt.show()"
   ]
  },
  {
   "attachments": {},
   "cell_type": "markdown",
   "id": "c3bdcbb6",
   "metadata": {},
   "source": [
    "## 6. Generate Simularium Outputs"
   ]
  },
  {
   "cell_type": "code",
   "execution_count": null,
   "id": "3a064739",
   "metadata": {},
   "outputs": [],
   "source": [
    "from subcell_analysis.cytosim.post_process_cytosim import cytosim_to_simularium\n",
    "from subcell_analysis.compression_analysis import COMPRESSIONMETRIC\n",
    "import boto3"
   ]
  },
  {
   "cell_type": "code",
   "execution_count": null,
   "id": "eb77ed11",
   "metadata": {},
   "outputs": [],
   "source": [
    "num_repeats = 5\n",
    "config_id = 4"
   ]
  },
  {
   "attachments": {},
   "cell_type": "markdown",
   "id": "9f3ffa30",
   "metadata": {},
   "source": [
    "Download files (only needs to be done once)"
   ]
  },
  {
   "cell_type": "code",
   "execution_count": null,
   "id": "0d1c7658",
   "metadata": {},
   "outputs": [],
   "source": [
    "s3_client = boto3.client(\"s3\")\n",
    "for repeat in range(num_repeats):\n",
    "    s3_client.download_file(\"cytosim-working-bucket\", f\"vary_compress_rate0006/outputs/{repeat}/fiber_segment_curvature.txt\", f\"data/fiber_segment_curvature_{repeat}.txt\")"
   ]
  },
  {
   "attachments": {},
   "cell_type": "markdown",
   "id": "544a239b",
   "metadata": {},
   "source": [
    "### Process single repeat"
   ]
  },
  {
   "cell_type": "code",
   "execution_count": null,
   "id": "390e6dec",
   "metadata": {},
   "outputs": [],
   "source": [
    "repeat = 0\n",
    "input_file_path = f\"data/fiber_segment_curvature_{repeat}.txt\"\n",
    "\n",
    "box_size = 3.0\n",
    "scale_factor = 100\n",
    "fiber_data = cytosim_to_simularium(input_file_path, box_size=box_size, scale_factor=scale_factor)"
   ]
  },
  {
   "attachments": {},
   "cell_type": "markdown",
   "id": "e10ab48c",
   "metadata": {},
   "source": [
    "Create cytosim converter object"
   ]
  },
  {
   "cell_type": "code",
   "execution_count": null,
   "id": "d9c02eea",
   "metadata": {},
   "outputs": [],
   "source": [
    "cytosim_converter = CytosimConverter(fiber_data)"
   ]
  },
  {
   "attachments": {},
   "cell_type": "markdown",
   "id": "716926b9",
   "metadata": {},
   "source": [
    "Read metric data"
   ]
  },
  {
   "cell_type": "code",
   "execution_count": null,
   "id": "49f1adfd",
   "metadata": {},
   "outputs": [],
   "source": [
    "df_path = f\"dataframes/actin_forces{config_id}_{repeat}_compression_metrics.csv\"\n",
    "df = pd.read_csv(df_path)"
   ]
  },
  {
   "attachments": {},
   "cell_type": "markdown",
   "id": "298f4907",
   "metadata": {},
   "source": [
    "Add metric plots"
   ]
  },
  {
   "cell_type": "code",
   "execution_count": null,
   "id": "f50cc994",
   "metadata": {},
   "outputs": [],
   "source": [
    "plot_metrics = [COMPRESSIONMETRIC.AVERAGE_PERP_DISTANCE, COMPRESSIONMETRIC.TOTAL_FIBER_TWIST, COMPRESSIONMETRIC.SUM_BENDING_ENERGY, COMPRESSIONMETRIC.PEAK_ASYMMETRY, COMPRESSIONMETRIC.NON_COPLANARITY]"
   ]
  },
  {
   "cell_type": "code",
   "execution_count": null,
   "id": "3d1fe4e1",
   "metadata": {},
   "outputs": [],
   "source": [
    "for metric in plot_metrics:\n",
    "    metric_by_time = df.groupby([\"time\"])[metric.value].mean()\n",
    "    cytosim_converter.add_plot(\n",
    "    ScatterPlotData(\n",
    "        title=f\"{metric} over time\",\n",
    "        xaxis_title=\"Time\",\n",
    "        yaxis_title=metric.value,\n",
    "        xtrace=np.arange(len(metric_by_time))*1E-5,\n",
    "        ytraces={\n",
    "            f\"repeat {repeat}\": metric_by_time,\n",
    "        },\n",
    "    )\n",
    ")"
   ]
  },
  {
   "attachments": {},
   "cell_type": "markdown",
   "id": "b3f1db77",
   "metadata": {},
   "source": [
    "Save converted data"
   ]
  },
  {
   "cell_type": "code",
   "execution_count": null,
   "id": "1aaa62a1",
   "metadata": {},
   "outputs": [],
   "source": [
    "cytosim_converter.save(f\"outputs/vary_compress_rate_0006_repeat_{repeat}\")"
   ]
  },
  {
   "attachments": {},
   "cell_type": "markdown",
   "id": "6da62c51",
   "metadata": {},
   "source": [
    "### Process multiple repeats"
   ]
  },
  {
   "cell_type": "code",
   "execution_count": null,
   "id": "84d1e73e",
   "metadata": {},
   "outputs": [],
   "source": [
    "box_size = 3.0\n",
    "scale_factor = 100\n",
    "colors = [\"#F0F0F0\", \"#0000FF\", \"#FF0000\", \"#00FF00\", \"#FF00FF\"]"
   ]
  },
  {
   "attachments": {},
   "cell_type": "markdown",
   "id": "d894c991",
   "metadata": {},
   "source": [
    "Create initial trajectory data object"
   ]
  },
  {
   "cell_type": "code",
   "execution_count": null,
   "id": "325bf25c",
   "metadata": {},
   "outputs": [],
   "source": [
    "input_file_path = f\"data/fiber_segment_curvature_0.txt\"\n",
    "fiber_data = cytosim_to_simularium(input_file_path, box_size=box_size, scale_factor=scale_factor, color=colors[0], actin_number=0)\n",
    "cytosim_converter = CytosimConverter(fiber_data)\n",
    "\n",
    "trajectory_data = cytosim_converter._data"
   ]
  },
  {
   "attachments": {},
   "cell_type": "markdown",
   "id": "0e2e4bb8",
   "metadata": {},
   "source": [
    "Append additional repeats to trajectory data object"
   ]
  },
  {
   "cell_type": "code",
   "execution_count": null,
   "id": "87221b7f",
   "metadata": {},
   "outputs": [],
   "source": [
    "for repeat in range(1, num_repeats):\n",
    "    input_file_path = f\"data/fiber_segment_curvature_{repeat}.txt\"\n",
    "    fiber_data = cytosim_to_simularium(input_file_path, box_size=box_size, scale_factor=scale_factor, color=colors[repeat], actin_number=repeat)\n",
    "    cytosim_converter = CytosimConverter(fiber_data)\n",
    "    new_agent_data = cytosim_converter._data.agent_data\n",
    "\n",
    "    trajectory_data.append_agents(new_agent_data)"
   ]
  },
  {
   "cell_type": "code",
   "execution_count": null,
   "id": "d704402e",
   "metadata": {},
   "outputs": [],
   "source": [
    "all_repeats_converter = TrajectoryConverter(trajectory_data)"
   ]
  },
  {
   "attachments": {},
   "cell_type": "markdown",
   "id": "1343a202",
   "metadata": {},
   "source": [
    "Add plots for all repeats"
   ]
  },
  {
   "cell_type": "code",
   "execution_count": null,
   "id": "02db7432",
   "metadata": {},
   "outputs": [],
   "source": [
    "plot_metrics = [COMPRESSIONMETRIC.AVERAGE_PERP_DISTANCE, COMPRESSIONMETRIC.TOTAL_FIBER_TWIST, COMPRESSIONMETRIC.SUM_BENDING_ENERGY, COMPRESSIONMETRIC.PEAK_ASYMMETRY, COMPRESSIONMETRIC.NON_COPLANARITY]"
   ]
  },
  {
   "attachments": {},
   "cell_type": "markdown",
   "id": "16efff41",
   "metadata": {},
   "source": [
    "Get metrics for all repeats"
   ]
  },
  {
   "cell_type": "code",
   "execution_count": null,
   "id": "2d299ef1",
   "metadata": {},
   "outputs": [],
   "source": [
    "df_list = []\n",
    "for repeat in range(num_repeats):\n",
    "    df_path = f\"dataframes/actin_forces{config_id}_{repeat}_compression_metrics.csv\"\n",
    "    df = pd.read_csv(df_path)   \n",
    "    df[\"repeat\"] = repeat\n",
    "    df_list.append(df)\n",
    "df_all = pd.concat(df_list)"
   ]
  },
  {
   "attachments": {},
   "cell_type": "markdown",
   "id": "ad58a6a1",
   "metadata": {},
   "source": [
    "Add plots for converter object"
   ]
  },
  {
   "cell_type": "code",
   "execution_count": null,
   "id": "595be893",
   "metadata": {},
   "outputs": [],
   "source": [
    "for metric in plot_metrics:\n",
    "    ytraces = {}\n",
    "    for repeat, df_repeat in df_all.groupby(\"repeat\"):\n",
    "        ytraces[f\"repeat {repeat}\"] = df_repeat.groupby([\"time\"])[metric.value].mean()\n",
    "\n",
    "    all_repeats_converter.add_plot(\n",
    "        ScatterPlotData(\n",
    "            title=f\"{metric.value} over time\",\n",
    "            xaxis_title=\"Time\",\n",
    "            yaxis_title=metric.value,\n",
    "            xtrace=np.arange(metric_by_time.shape[0])*1E-5,\n",
    "            ytraces=ytraces,\n",
    "            render_mode=\"lines\",\n",
    "        )\n",
    "    )"
   ]
  },
  {
   "attachments": {},
   "cell_type": "markdown",
   "id": "1a6475a5",
   "metadata": {},
   "source": [
    "Save converted data"
   ]
  },
  {
   "cell_type": "code",
   "execution_count": null,
   "id": "0cabefd0",
   "metadata": {},
   "outputs": [],
   "source": [
    "all_repeats_converter.save(f\"outputs/vary_compress_rate_0006_all_repeats\")"
   ]
  }
 ],
 "metadata": {
  "kernelspec": {
   "display_name": "subcell-analysis",
   "language": "python",
   "name": "python3"
  },
  "language_info": {
   "codemirror_mode": {
    "name": "ipython",
    "version": 3
   },
   "file_extension": ".py",
   "mimetype": "text/x-python",
   "name": "python",
   "nbconvert_exporter": "python",
   "pygments_lexer": "ipython3",
   "version": "3.10.10"
  },
  "vscode": {
   "interpreter": {
    "hash": "d558620a2403be4c2958b608989a9fc85658cf9867c13a1b5b0a1011c0ea0956"
   }
  }
 },
 "nbformat": 4,
 "nbformat_minor": 5
}
