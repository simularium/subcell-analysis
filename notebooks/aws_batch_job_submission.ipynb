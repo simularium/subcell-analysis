{
 "cells": [
  {
   "cell_type": "code",
   "execution_count": null,
   "id": "34acb1f1",
   "metadata": {},
   "outputs": [],
   "source": [
    "import boto3\n",
    "import getpass\n",
    "import numpy as np\n",
<<<<<<< HEAD
    "from preconfig import Preconfig\n"
=======
    "from preconfig import Preconfig"
>>>>>>> 5cdf2cf64a9e663b0dcedb5a3d05b1184a5409f6
   ]
  },
  {
   "cell_type": "markdown",
   "id": "b9097136",
   "metadata": {},
   "source": [
    "# 1. Upload config files to S3"
   ]
  },
  {
   "cell_type": "code",
   "execution_count": null,
   "id": "b68ad720",
   "metadata": {},
   "outputs": [],
   "source": [
<<<<<<< HEAD
    "# Preconfig class allows us to parse a template file and generate a list of config files.\n",
    "# Two loops puts the generated config files for a given number of repeats in S3.\n",
=======
    "# TODO: load template file, convert to .cym files, upload to S3\n",
>>>>>>> 5cdf2cf64a9e663b0dcedb5a3d05b1184a5409f6
    "preconfig = Preconfig()\n",
    "path_to_template = '../templates/vary_compress_rate.cym.tpl'\n",
    "configs = preconfig.parse(path_to_template,{})\n",
    "s3_client = boto3.client(\"s3\")\n",
    "bucket = 'cytosim-working-bucket'\n",
    "num_repeats = 5\n",
<<<<<<< HEAD
    "job_names = []\n",
    "buffered = np.empty((len(configs)), dtype=object)\n",
    "for index, config in enumerate(configs):\n",
    "    job_name = config[:-4]\n",
    "    job_names.append(job_name)\n",
    "    for repeat in range(num_repeats):\n",
    "        opened_config = open(config, \"rb\")\n",
    "        config_name = f'{job_name}/config/{job_name}_{repeat}.cym' \n",
    "        s3_client.put_object(Bucket=bucket, Key=config_name, Body=opened_config)\n",
    "            \n",
    "    \n",
    "job_names"
=======
    "for config in configs:\n",
    "    job_name = config[:-4]\n",
    "    print(job_name)\n",
    "    with open(config, \"rb\") as buffer:\n",
    "        for repeat in range(num_repeats):\n",
    "            config_name = f'{job_name}/config/{job_name}_{repeat}.cym' \n",
    "            print(config_name)\n",
    "            s3_client.put_object(Bucket=bucket, Key=config_name, Body=buffer)\n",
    "            \n",
    "    break"
>>>>>>> 5cdf2cf64a9e663b0dcedb5a3d05b1184a5409f6
   ]
  },
  {
   "cell_type": "markdown",
   "id": "5c7d615b",
   "metadata": {},
   "source": [
    "# 2a. Specify job definition"
   ]
  },
  {
   "cell_type": "code",
   "execution_count": null,
   "id": "b05de962",
   "metadata": {},
   "outputs": [],
   "source": [
    "job_definition_arn = \"job_definition_arn\""
   ]
  },
  {
   "cell_type": "markdown",
   "id": "f7593fe7",
   "metadata": {},
   "source": [
    "# 2b. Create and register job definition"
   ]
  },
  {
   "cell_type": "code",
   "execution_count": null,
   "id": "bf55e1fb",
   "metadata": {},
   "outputs": [],
   "source": [
    "from container_collection.batch.register_batch_job import register_batch_job\n",
    "#from container_collection.batch.make_batch_job import make_batch_job"
   ]
  },
  {
   "cell_type": "code",
   "execution_count": null,
   "id": "1395f6d9",
   "metadata": {},
   "outputs": [],
   "source": []
  },
  {
   "cell_type": "code",
   "execution_count": null,
   "id": "4bf464f2",
   "metadata": {},
   "outputs": [],
   "source": [
    "job_definition_name = \"karthikv_cytosim_varycompressrate\"\n",
    "image = \"simularium/cytosim:latest\"\n",
    "vcpus = 1\n",
    "memory = 7000\n",
    "bucket_name = \"s3://cytosim-working-bucket/\"\n",
    "simulation_name = ''"
   ]
  },
  {
   "cell_type": "code",
   "execution_count": null,
   "id": "4095cc9b",
   "metadata": {},
   "outputs": [],
   "source": [
    "account = getpass.getpass()"
   ]
  },
  {
   "cell_type": "code",
   "execution_count": null,
   "id": "dbf97dc7",
   "metadata": {},
   "outputs": [],
   "source": []
  },
  {
   "cell_type": "code",
   "execution_count": null,
   "id": "e5526595",
   "metadata": {},
   "outputs": [],
   "source": [
    "def make_batch_job(\n",
    "    name: str,\n",
    "    image: str,\n",
    "    account: str,\n",
    "    region: str,\n",
    "    user: str,\n",
    "    vcpus: int,\n",
    "    memory: int,\n",
    "    prefix: str\n",
    ") -> dict:\n",
    "    return {\n",
    "    \"jobDefinitionName\": f\"{user}-{name}\",\n",
    "    \"type\": \"container\",\n",
    "    \"containerProperties\": {\n",
    "        \"image\": image,\n",
    "        \"vcpus\": vcpus,\n",
    "        \"memory\": memory,\n",
    "        \"environment\": [\n",
    "            {\"name\": \"SIMULATION_TYPE\", \"value\": \"AWS\"},\n",
    "            {\"name\": \"S3_INPUT_URL\", \"value\": bucket_name},\n",
    "            {\"name\": \"SIMULATION_NAME\", \"value\": simulation_name}\n",
    "        ],\n",
    "        \"jobRoleArn\": f\"arn:aws:iam::{account}:role/BatchJobRole\",\n",
    "    },\n",
    "}"
   ]
  },
  {
   "cell_type": "code",
   "execution_count": null,
   "id": "49662a22",
   "metadata": {},
   "outputs": [],
   "source": [
<<<<<<< HEAD
    "# Creating job definitions with make_batch_job\n",
    "# Submitting job definitions with register_batch_job\n",
    "jobs = np.empty(len(configs))\n",
    "job_definitions = np.empty((len(configs)), dtype=object)\n",
    "for index in range(len(configs)):\n",
    "    print(index)\n",
    "    simulation_name = job_names[index]\n",
    "    print(simulation_name)\n",
    "    job_definition = make_batch_job(f\"cytosim-varycompressrate-dryrun-{str(index)}\", 'simularium/cytosim:latest', account, 'us-west-2', 'karthikv', 1, 7000, 's3://cytosim-working-bucket/')\n",
    "    registered_jd = register_batch_job(job_definition)\n",
    "    job_definitions[index] = registered_jd\n",
    "    # print(jobs[index])\n",
    "    #print(jobs[index])\n",
    "    \n",
    "\n",
    "        \n"
=======
    "account "
   ]
  },
  {
   "cell_type": "code",
   "execution_count": null,
   "metadata": {},
   "outputs": [],
   "source": [
    "job_definition_arn = register_batch_job(job_definition)"
>>>>>>> 5cdf2cf64a9e663b0dcedb5a3d05b1184a5409f6
   ]
  },
  {
   "cell_type": "code",
   "execution_count": null,
   "metadata": {},
   "outputs": [],
   "source": [
    "# Multiple Jobs\n",
    "# num_repeats = 5\n",
    "# jobs = np.empty((len(configs), num_repeats), dtype=object)\n",
    "# for index in range(len(configs)):\n",
    "#     for repeat in range(num_repeats):\n",
    "#         jobs[index][repeat] = make_batch_job(f\"cytosim-varycompressrate{index}repeat{repeat}\", 'simularium/cytosim:latest', '108503617402', 'us-west-2', 'karthikv', 1, 7000, 's3://cytosim-working-bucket/')\n",
    "#         register_batch_job(jobs[index][repeat])\n",
    "\n"
   ]
  },
  {
   "cell_type": "markdown",
   "id": "dc39500e",
   "metadata": {},
   "source": [
    "# 3. Submit job"
   ]
  },
  {
   "cell_type": "code",
   "execution_count": null,
   "id": "47d19338",
   "metadata": {},
   "outputs": [],
   "source": [
    "from container_collection.batch.submit_batch_job import submit_batch_job"
   ]
  },
  {
   "cell_type": "code",
   "execution_count": null,
   "id": "166595f7",
   "metadata": {},
   "outputs": [],
   "source": [
<<<<<<< HEAD
    "job_name = \"cytosim-varycompressrate\"\n",
=======
    "job_name = \"test-jupyter-submit-job-5312023\"\n",
>>>>>>> 5cdf2cf64a9e663b0dcedb5a3d05b1184a5409f6
    "user = \"karthikv\"\n",
    "queue = \"general\"\n",
    "size = 5"
   ]
  },
  {
   "cell_type": "code",
   "execution_count": null,
   "id": "3c7040e6",
   "metadata": {},
   "outputs": [],
   "source": [
    "print(job_definitions)"
   ]
  },
  {
   "cell_type": "code",
   "execution_count": null,
   "id": "cda5db9c",
   "metadata": {},
   "outputs": [],
   "source": [
    "job_definitions"
   ]
  },
  {
   "cell_type": "code",
   "execution_count": null,
   "id": "fe188e19",
   "metadata": {},
   "outputs": [],
   "source": [
    "for index in range(len(configs)):\n",
    "    print(index)\n",
    "    print(f'{job_name}-completerun-config{index}')\n",
    "    submit_batch_job(name=f'{job_name}-completerun-config{index}', job_definition_arn=job_definitions[index],user=user,queue=queue,size=size)\n",
    "    "
   ]
  },
  {
   "cell_type": "code",
   "execution_count": null,
   "id": "aa19c943",
   "metadata": {},
   "outputs": [],
   "source": [
    "job_arns = submit_batch_job(\n",
    "    name=job_name,\n",
    "    job_definition_arn=job_definition_arn,\n",
    "    user=user,\n",
    "    queue=queue,\n",
    "    size=size\n",
    ")"
   ]
  },
  {
   "cell_type": "code",
   "execution_count": null,
<<<<<<< HEAD
   "id": "03a2b601",
   "metadata": {},
   "outputs": [],
   "source": [
    "# For loop for multiple job submissions here\n",
    "\n",
    "job_definition_arn"
=======
   "metadata": {},
   "outputs": [],
   "source": [
    "print(job_arns)"
   ]
  },
  {
   "cell_type": "code",
   "execution_count": null,
   "metadata": {},
   "outputs": [],
   "source": [
    "# For loop for multiple job submissions here\n"
>>>>>>> 5cdf2cf64a9e663b0dcedb5a3d05b1184a5409f6
   ]
  },
  {
   "cell_type": "markdown",
   "id": "d35cc891",
   "metadata": {},
   "source": [
    "job_arns"
   ]
  },
  {
   "cell_type": "markdown",
   "id": "2dcbe8f4",
   "metadata": {},
   "source": [
    "# 4. Monitor job status"
   ]
  },
  {
   "cell_type": "code",
   "execution_count": null,
   "id": "e128cfbe",
   "metadata": {},
   "outputs": [],
   "source": [
    "# TODO: check job status, print progress bar"
   ]
  },
  {
   "cell_type": "markdown",
   "id": "e6de43cf",
   "metadata": {},
   "source": [
    "# 5. Load results"
   ]
  },
  {
   "cell_type": "code",
   "execution_count": null,
   "id": "56465166",
   "metadata": {},
   "outputs": [],
   "source": []
  }
 ],
 "metadata": {
  "kernelspec": {
   "display_name": "subcell-analysis",
   "language": "python",
   "name": "python3"
  },
  "language_info": {
   "codemirror_mode": {
    "name": "ipython",
    "version": 3
   },
   "file_extension": ".py",
   "mimetype": "text/x-python",
   "name": "python",
   "nbconvert_exporter": "python",
   "pygments_lexer": "ipython3",
   "version": "3.10.11"
  },
  "vscode": {
   "interpreter": {
    "hash": "d558620a2403be4c2958b608989a9fc85658cf9867c13a1b5b0a1011c0ea0956"
   }
  }
 },
 "nbformat": 4,
 "nbformat_minor": 5
}
