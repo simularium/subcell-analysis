{
 "cells": [
  {
   "attachments": {},
   "cell_type": "markdown",
   "metadata": {},
   "source": [
    "### 1. Cloud Simulation Analysis"
   ]
  },
  {
   "cell_type": "code",
   "execution_count": null,
   "metadata": {},
   "outputs": [],
   "source": [
    "from subcell_analysis.cytosim.post_process_cytosim import create_dataframes_for_repeats\n",
    "from subcell_analysis.compression_workflow_runner import compression_metrics_workflow,  plot_metric, plot_metric_list\n",
    "from subcell_analysis.compression_analysis import (\n",
    "    COMPRESSIONMETRIC,\n",
    ")\n",
    "from simulariumio import ScatterPlotData\n",
    "\n",
    "from simulariumio.cytosim import CytosimConverter\n",
    "from pathlib import Path\n",
    "\n",
    "import os\n",
    "import pandas as pd\n",
    "import numpy as np\n",
    "\n",
    "import boto3\n"
   ]
  },
  {
   "cell_type": "code",
   "execution_count": null,
   "metadata": {},
   "outputs": [],
   "source": [
    "bucket_name = 'cytosim-working-bucket'\n",
    "num_repeats = 5\n",
    "configs = ['vary_compress_rate0006']"
   ]
  },
  {
   "cell_type": "code",
   "execution_count": null,
   "metadata": {},
   "outputs": [],
   "source": [
    "%load_ext autoreload\n",
    "%autoreload 2"
   ]
  },
  {
   "cell_type": "code",
   "execution_count": null,
   "metadata": {},
   "outputs": [],
   "source": []
  },
  {
   "cell_type": "code",
   "execution_count": null,
   "metadata": {},
   "outputs": [],
   "source": [
    "directory = '../data/dataframes'\n",
    "if not os.path.exists(directory):\n",
    "    os.makedirs(directory)\n",
    "\n",
    "create_dataframes_for_repeats(bucket_name, num_repeats, configs, save_folder=Path(directory))\n",
    "num_repeats = 5\n",
    "outputs = [None] * num_repeats\n",
    "for config in configs:\n",
    "    for repeat in range(num_repeats):\n",
    "        all_output = pd.read_csv(f'{directory}/cytosim_actin_compression_velocity_{config}_repeat_{repeat}.csv')\n",
    "        outputs[repeat] = compression_metrics_workflow(all_output, [COMPRESSIONMETRIC.PEAK_ASYMMETRY, COMPRESSIONMETRIC.AVERAGE_PERP_DISTANCE, COMPRESSIONMETRIC.NON_COPLANARITY, COMPRESSIONMETRIC.TOTAL_FIBER_TWIST, COMPRESSIONMETRIC.SUM_BENDING_ENERGY])\n"
   ]
  },
  {
   "cell_type": "code",
   "execution_count": null,
   "metadata": {},
   "outputs": [],
   "source": [
    "outputs[0]"
   ]
  },
  {
   "cell_type": "code",
   "execution_count": null,
   "metadata": {},
   "outputs": [],
   "source": [
    "import matplotlib.pyplot as plt\n",
    "metrics = [COMPRESSIONMETRIC.AVERAGE_PERP_DISTANCE, COMPRESSIONMETRIC.TOTAL_FIBER_TWIST, COMPRESSIONMETRIC.SUM_BENDING_ENERGY, COMPRESSIONMETRIC.PEAK_ASYMMETRY, COMPRESSIONMETRIC.NON_COPLANARITY]\n",
    "for metric in metrics:\n",
    "    fig, ax = plt.subplots()\n",
    "    for repeat in range(num_repeats):\n",
    "        metric_by_time = outputs[repeat].groupby([\"time\"])[metric.value].mean()\n",
    "        ax.plot(metric_by_time, label=f\"repeat {repeat}\")\n",
    "    ax.legend()\n",
    "    ax.set_xlabel(\"time\")\n",
    "    ax.set_ylabel(metric.value)\n",
    "    ax.set_title(f\"{metric.value} by time\")"
   ]
  },
  {
   "attachments": {},
   "cell_type": "markdown",
   "metadata": {},
   "source": [
    "### 2. Generate Simularium Outputs"
   ]
  },
  {
   "cell_type": "code",
   "execution_count": null,
   "metadata": {},
   "outputs": [],
   "source": [
    "from subcell_analysis.cytosim.post_process_cytosim import cytosim_to_simularium\n",
    "s3_client = boto3.client(\"s3\")\n",
    "s3_client.download_file(\"cytosim-working-bucket\", \"vary_compress_rate0006/outputs/2/fiber_segment_curvature.txt\", \"fiber_segment_curvature.txt\")\n",
    "input_data = cytosim_to_simularium(\"fiber_segment_curvature.txt\")"
   ]
  },
  {
   "cell_type": "code",
   "execution_count": null,
   "metadata": {},
   "outputs": [],
   "source": [
    "cytosim_converter = CytosimConverter(input_data)\n",
    "repeat = 0\n",
    "for metric in metrics:\n",
    "    metric_by_time = outputs[repeat].groupby([\"time\"])[metric.value].mean()\n",
    "    cytosim_converter.add_plot(\n",
    "    ScatterPlotData(\n",
    "        title=f\"{metric.value} over time\",\n",
    "        xaxis_title=\"Time\",\n",
    "        yaxis_title=metric.value,\n",
    "        xtrace=np.arange(len(metric_by_time))*1E-5,\n",
    "        ytraces={\n",
    "            f\"repeat {repeat}\": metric_by_time,\n",
    "        },\n",
    "    )\n",
    ")\n",
    "\n",
    "cytosim_converter.save(\"vary_compress_rate_0006_replicate0\")"
   ]
  },
  {
   "cell_type": "code",
   "execution_count": null,
   "metadata": {},
   "outputs": [],
   "source": []
  }
 ],
 "metadata": {
  "kernelspec": {
   "display_name": "subcell-analysis",
   "language": "python",
   "name": "python3"
  },
  "language_info": {
   "codemirror_mode": {
    "name": "ipython",
    "version": 3
   },
   "file_extension": ".py",
   "mimetype": "text/x-python",
   "name": "python",
   "nbconvert_exporter": "python",
   "pygments_lexer": "ipython3",
   "version": "3.11.3"
  },
  "vscode": {
   "interpreter": {
    "hash": "d558620a2403be4c2958b608989a9fc85658cf9867c13a1b5b0a1011c0ea0956"
   }
  }
 },
 "nbformat": 4,
 "nbformat_minor": 2
}
