{
 "cells": [
  {
   "cell_type": "code",
   "execution_count": null,
   "metadata": {},
   "outputs": [],
   "source": [
    "import numpy as np\n",
    "import pandas as pd\n",
    "from subcell_analysis.compression_analysis import get_pacmap_embedding\n",
    "from pacmap import PaCMAP\n",
    "from scipy import interpolate as spinterp"
   ]
  },
  {
   "cell_type": "code",
   "execution_count": null,
   "metadata": {},
   "outputs": [],
   "source": [
    "num_repeats = 5\n",
    "df_list = []\n",
    "configs = ['vary_compress_rate0006']\n",
    "directory = '../data/dataframes'\n",
    "for config in configs:\n",
    "    for repeat in range(num_repeats):\n",
    "        print(config, repeat)\n",
    "        #cytosim_actin_compression_velocity_vary_compress_rate0006_repeat_0.csv\n",
    "        df = pd.read_csv(f'{directory}/cytosim_actin_compression_velocity_{config}_repeat_{repeat}.csv')\n",
    "        df[\"repeat\"] = repeat\n",
    "        df[\"config\"] = config\n",
    "        df_list.append(df)\n",
    "df_all = pd.concat(df_list)\n",
    "df_all.to_csv(\"dataframes/all_fibers_configs_3_4.csv\")"
   ]
  },
  {
   "cell_type": "code",
   "execution_count": null,
   "metadata": {},
   "outputs": [],
   "source": [
    "num_monomers = 100\n",
    "num_timepoints = 101\n",
    "all_config_repeats = []\n",
    "cols_to_interp = [\"xpos\", \"ypos\", \"zpos\"]\n",
    "for config, df_config in df_all.groupby(\"config\"):\n",
    "    for repeat, df_repeat in df_config.groupby(\"repeat\"):\n",
    "        all_times = []\n",
    "        for time, df_time in df_repeat.groupby(\"time\"):\n",
    "            # interpolate xpos, ypos, zpos to num_monomers\n",
    "            X = df_time[cols_to_interp].values\n",
    "            t = np.linspace(0, 1, X.shape[0])\n",
    "            F = spinterp.interp1d(t, X.T, bounds_error=False, fill_value=\"extrapolate\")\n",
    "            u = np.linspace(0, 1, num_monomers)\n",
    "            all_times.append(F(u).T)\n",
    "        all_times = np.array(all_times)\n",
    "        interp_timepoints = np.around(len(all_times) / num_timepoints * np.arange(num_timepoints)).astype(int)\n",
    "        all_config_repeats.append(np.array(all_times)[interp_timepoints,:,:])\n",
    "all_config_repeats = np.array(all_config_repeats)"
   ]
  },
  {
   "cell_type": "code",
   "execution_count": null,
   "metadata": {},
   "outputs": [],
   "source": [
    "embedding = PaCMAP(n_components=2, n_neighbors=None, MN_ratio=0.5, FP_ratio=2.0)\n",
    "reshaped_metrics = all_config_repeats.reshape(all_config_repeats.shape[0], -1)\n",
    "embed_pos = embedding.fit_transform(reshaped_metrics)"
   ]
  },
  {
   "cell_type": "code",
   "execution_count": null,
   "metadata": {},
   "outputs": [],
   "source": [
    "import matplotlib.pyplot as plt\n",
    "fig, ax = plt.subplots()\n",
    "configs = [3, 4]\n",
    "for ct, config in enumerate(configs):\n",
    "    inds = ct * num_repeats + np.arange(num_repeats)\n",
    "    ax.scatter(embed_pos[inds, 0], embed_pos[inds, 1], label=f\"config {config}\")\n",
    "ax.set_xlabel(\"embedding 1\")\n",
    "ax.set_ylabel(\"embedding 2\")\n",
    "ax.set_title(\"PaCMAP embedding of all repeats\")\n",
    "ax.legend()\n",
    "plt.show()"
   ]
  },
  {
   "cell_type": "code",
   "execution_count": null,
   "metadata": {},
   "outputs": [],
   "source": []
  }
 ],
 "metadata": {
  "kernelspec": {
   "display_name": "subcell-analysis",
   "language": "python",
   "name": "python3"
  },
  "language_info": {
   "codemirror_mode": {
    "name": "ipython",
    "version": 3
   },
   "file_extension": ".py",
   "mimetype": "text/x-python",
   "name": "python",
   "nbconvert_exporter": "python",
   "pygments_lexer": "ipython3",
   "version": "3.11.3 (main, May 15 2023, 18:01:31) [Clang 14.0.6 ]"
  },
  "vscode": {
   "interpreter": {
    "hash": "d558620a2403be4c2958b608989a9fc85658cf9867c13a1b5b0a1011c0ea0956"
   }
  }
 },
 "nbformat": 4,
 "nbformat_minor": 2
}
