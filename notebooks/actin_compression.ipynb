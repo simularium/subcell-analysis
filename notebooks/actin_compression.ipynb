{
 "cells": [
  {
   "cell_type": "code",
   "execution_count": null,
   "metadata": {},
   "outputs": [],
   "source": []
  },
  {
   "cell_type": "code",
   "execution_count": 8,
   "metadata": {},
   "outputs": [],
   "source": [
    "from subcell_analysis import run_workflow, plot_metric\n",
    "all_fibers = None\n",
    "metrics_to_calculate = []\n",
    "all_fibers = run_workflow(all_fibers, metrics_to_calculate)"
   ]
  },
  {
   "cell_type": "code",
   "execution_count": null,
   "metadata": {},
   "outputs": [],
   "source": []
  }
 ],
 "metadata": {
  "kernelspec": {
   "display_name": "Python 3",
   "language": "python",
   "name": "python3"
  },
  "language_info": {
   "codemirror_mode": {
    "name": "ipython",
    "version": 3
   },
   "file_extension": ".py",
   "mimetype": "text/x-python",
   "name": "python",
   "nbconvert_exporter": "python",
   "pygments_lexer": "ipython3",
   "version": "3.10.8"
  },
  "orig_nbformat": 4,
  "vscode": {
   "interpreter": {
    "hash": "2d02035240c56e6a4ad684d137b97a85a897b099e9ecdd4107fa6c0a2898fe3f"
   }
  }
 },
 "nbformat": 4,
 "nbformat_minor": 2
}
