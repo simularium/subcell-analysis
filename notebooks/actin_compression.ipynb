{
 "cells": [
  {
   "cell_type": "code",
   "execution_count": 1,
   "metadata": {},
   "outputs": [
    {
     "ename": "ModuleNotFoundError",
     "evalue": "No module named 'post_process_cytosim'",
     "output_type": "error",
     "traceback": [
      "\u001b[0;31m---------------------------------------------------------------------------\u001b[0m",
      "\u001b[0;31mModuleNotFoundError\u001b[0m                       Traceback (most recent call last)",
      "Cell \u001b[0;32mIn[1], line 1\u001b[0m\n\u001b[0;32m----> 1\u001b[0m \u001b[39mfrom\u001b[39;00m \u001b[39msubcell_analysis\u001b[39;00m\u001b[39m.\u001b[39;00m\u001b[39mpostprocessing\u001b[39;00m\u001b[39m.\u001b[39;00m\u001b[39mcytosim\u001b[39;00m \u001b[39mimport\u001b[39;00m \u001b[39m*\u001b[39m\n\u001b[1;32m      2\u001b[0m \u001b[39mfrom\u001b[39;00m \u001b[39msubcell_analysis\u001b[39;00m\u001b[39m.\u001b[39;00m\u001b[39mcompression_analysis\u001b[39;00m \u001b[39mimport\u001b[39;00m \u001b[39m*\u001b[39m\n\u001b[1;32m      3\u001b[0m \u001b[39m#all postprocessing cytosim outputs \u001b[39;00m\n\u001b[1;32m      4\u001b[0m \n\u001b[1;32m      5\u001b[0m \u001b[39m#download file from s3 before thi`s\u001b[39;00m\n",
      "File \u001b[0;32m~/subcell-analysis/subcell_analysis/postprocessing/cytosim/__init__.py:3\u001b[0m\n\u001b[1;32m      1\u001b[0m \u001b[39m#!/usr/bin/env python\u001b[39;00m\n\u001b[1;32m      2\u001b[0m \u001b[39m# -*- coding: utf-8 -*-\u001b[39;00m\n\u001b[0;32m----> 3\u001b[0m \u001b[39mfrom\u001b[39;00m \u001b[39mpost_process_cytosim\u001b[39;00m \u001b[39mimport\u001b[39;00m \u001b[39m*\u001b[39m\n",
      "\u001b[0;31mModuleNotFoundError\u001b[0m: No module named 'post_process_cytosim'"
     ]
    }
   ],
   "source": [
    "from subcell_analysis.postprocessing.cytosim import *\n",
    "from subcell_analysis.compression_analysis import *\n",
    "#all postprocessing cytosim outputs \n",
    "\n",
    "#download file from s3 before thi`s\n",
    "fibers = all_fiber_forces('fiber_segment_curvature.txt')\n",
    "asymmetry(fibers)"
   ]
  },
  {
   "cell_type": "code",
   "execution_count": null,
   "metadata": {},
   "outputs": [],
   "source": []
  }
 ],
 "metadata": {
  "kernelspec": {
   "display_name": "Python 3",
   "language": "python",
   "name": "python3"
  },
  "language_info": {
   "codemirror_mode": {
    "name": "ipython",
    "version": 3
   },
   "file_extension": ".py",
   "mimetype": "text/x-python",
   "name": "python",
   "nbconvert_exporter": "python",
   "pygments_lexer": "ipython3",
   "version": "3.10.8"
  },
  "orig_nbformat": 4,
  "vscode": {
   "interpreter": {
    "hash": "2d02035240c56e6a4ad684d137b97a85a897b099e9ecdd4107fa6c0a2898fe3f"
   }
  }
 },
 "nbformat": 4,
 "nbformat_minor": 2
}
