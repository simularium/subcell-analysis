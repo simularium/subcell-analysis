{
 "cells": [
  {
   "cell_type": "code",
   "execution_count": 8,
   "id": "eae57537-c2f2-4111-8b65-4dc9e8175181",
   "metadata": {},
   "outputs": [
    {
     "name": "stderr",
     "output_type": "stream",
     "text": [
      "/var/folders/85/2hvqklzj2213s3jg4sxkm5zh0000gn/T/ipykernel_63028/4050084550.py:4: DeprecationWarning: Please use `gaussian_filter` from the `scipy.ndimage` namespace, the `scipy.ndimage.filters` namespace is deprecated.\n",
      "  from scipy.ndimage.filters import gaussian_filter\n"
     ]
    }
   ],
   "source": [
    "%matplotlib notebook\n",
    "import numpy as np\n",
    "from scipy.stats import kde\n",
    "from scipy.ndimage.filters import gaussian_filter\n",
    "import pandas as pd\n",
    "import os\n",
    "import shutil\n",
    "import subprocess\n",
    "from subprocess import Popen\n",
    "import datetime\n",
    "import matplotlib.pyplot as plt  # plotting\n",
    "\n",
    "from decimal import Decimal\n",
    "\n",
    "from matplotlib.colors import LogNorm\n",
    "from matplotlib.colors import SymLogNorm\n",
    "from scipy.stats import binned_statistic_2d\n",
    "\n",
    "# make prefix for figure filenames\n",
    "now = datetime.datetime.now()\n",
    "date = now.strftime('%Y%m%d')\n",
    "pref = date"
   ]
  },
  {
   "cell_type": "markdown",
   "id": "6ce41106-b4a8-4fce-b843-b5c2330ba6c5",
   "metadata": {},
   "source": [
    "# Conversion: pixels to microns"
   ]
  },
  {
   "cell_type": "code",
   "execution_count": 4,
   "id": "24196ef6-9637-4a73-b20a-c2651dbb176d",
   "metadata": {},
   "outputs": [],
   "source": [
    "pixels_to_um = 0.00006\n",
    "\n",
    "# pixels_to_nm = 0.06"
   ]
  },
  {
   "cell_type": "markdown",
   "id": "fab09972-1e9f-4936-830e-79f876553188",
   "metadata": {},
   "source": [
    "# list of all folders"
   ]
  },
  {
   "cell_type": "code",
   "execution_count": 5,
   "id": "0b0e64e3-f310-4b00-a5a2-7842a0aa8446",
   "metadata": {},
   "outputs": [
    {
     "data": {
      "text/plain": [
       "['2018August_Tomo27/',\n",
       " '2018June_Tomo14_Early_Invagination/',\n",
       " '2018June_Tomo14_Late_Invagination/',\n",
       " '2018June_Tomo26/',\n",
       " '2018March/',\n",
       " '2018November_32/']"
      ]
     },
     "execution_count": 5,
     "metadata": {},
     "output_type": "execute_result"
    }
   ],
   "source": [
    "all_paths = ['2018August_Tomo27/','2018June_Tomo14_Early_Invagination/','2018June_Tomo14_Late_Invagination/','2018June_Tomo26/','2018March/','2018November_32/']\n",
    "all_paths"
   ]
  },
  {
   "cell_type": "code",
   "execution_count": 6,
   "id": "073f0373-db1a-4939-ad19-72977d452221",
   "metadata": {},
   "outputs": [],
   "source": [
    "# function: read a text file and get coordinate files\n",
    "def read_text(file, label='fil'):\n",
    "    \n",
    "    import pandas as pd\n",
    "    coordinatesfile = open(file, 'r')\n",
    "    \n",
    "    coords_df = pd.read_table(coordinatesfile, delim_whitespace=True)\n",
    "#     check if there is an 'object' and 'contour' column (membrane)\n",
    "    if len(coords_df.columns)==4:\n",
    "        coords_df.columns=[label, 'X', 'Y', 'Z']\n",
    "        coords_df=coords_df.set_index([label])\n",
    "    \n",
    "    elif len(coords_df.columns)==5:\n",
    "        coords_df.columns=['object', label, 'X', 'Y', 'Z']\n",
    "        coords_df=coords_df.set_index(['object', label])\n",
    "        \n",
    "    else:\n",
    "        print(\"unexpected number of columns!\")\n",
    "#     make multiindex\n",
    "    coordinatesfile.close()\n",
    "    return coords_df\n"
   ]
  },
  {
   "cell_type": "markdown",
   "id": "f2b7b3d2-22c2-4dff-8f9d-5dde10bd564f",
   "metadata": {},
   "source": [
    "# Grab all unbranched filament files and put in a dataframe\n",
    "## also convert to microns and add information about which dataset"
   ]
  },
  {
   "cell_type": "code",
   "execution_count": 7,
   "id": "560150be-20eb-40dc-b508-beece5dc2c2b",
   "metadata": {},
   "outputs": [
    {
     "name": "stdout",
     "output_type": "stream",
     "text": [
      "2018August_Tomo27/\n"
     ]
    },
    {
     "ename": "FileNotFoundError",
     "evalue": "[Errno 2] No such file or directory: '2018August_Tomo27/'",
     "output_type": "error",
     "traceback": [
      "\u001b[0;31m---------------------------------------------------------------------------\u001b[0m",
      "\u001b[0;31mFileNotFoundError\u001b[0m                         Traceback (most recent call last)",
      "Cell \u001b[0;32mIn[7], line 6\u001b[0m\n\u001b[1;32m      4\u001b[0m \u001b[39mfor\u001b[39;00m cur_path \u001b[39min\u001b[39;00m all_paths:\n\u001b[1;32m      5\u001b[0m     \u001b[39mprint\u001b[39m(cur_path)\n\u001b[0;32m----> 6\u001b[0m     files_in_dir \u001b[39m=\u001b[39m os\u001b[39m.\u001b[39;49mlistdir(cur_path)\n\u001b[1;32m      7\u001b[0m     \u001b[39mfor\u001b[39;00m file \u001b[39min\u001b[39;00m files_in_dir:\n\u001b[1;32m      8\u001b[0m         \u001b[39mif\u001b[39;00m \u001b[39m'\u001b[39m\u001b[39mBranched\u001b[39m\u001b[39m'\u001b[39m \u001b[39min\u001b[39;00m file \u001b[39mand\u001b[39;00m \u001b[39m'\u001b[39m\u001b[39mtxt\u001b[39m\u001b[39m'\u001b[39m \u001b[39min\u001b[39;00m file:\n",
      "\u001b[0;31mFileNotFoundError\u001b[0m: [Errno 2] No such file or directory: '2018August_Tomo27/'"
     ]
    }
   ],
   "source": [
    "\n",
    "all_unbranched_filaments = pd.DataFrame()\n",
    "all_branched_filaments = pd.DataFrame()\n",
    "\n",
    "for cur_path in all_paths:\n",
    "    print(cur_path)\n",
    "    files_in_dir = os.listdir(cur_path)\n",
    "    for file in files_in_dir:\n",
    "        if 'Branched' in file and 'txt' in file:\n",
    "            branched_filaments_file = file\n",
    "            branched_file_cur = cur_path+branched_filaments_file\n",
    "            actin_br = read_text(branched_file_cur)\n",
    "#             actin_br['X_um'] = actin_br['X']*pixels_to_um\n",
    "            actin_br = actin_br.mul(pixels_to_um)\n",
    "            actin_br['dataset'] = cur_path\n",
    "            all_branched_filaments = pd.concat([all_branched_filaments, actin_br])\n",
    "\n",
    "\n",
    "    for file in files_in_dir:\n",
    "        if 'Unbranched' in file and 'txt' in file:\n",
    "            unbranched_filaments_file = file\n",
    "            unbranched_file_cur = cur_path + unbranched_filaments_file\n",
    "            actin_ub = read_text(unbranched_file_cur)\n",
    "            actin_ub = actin_ub.mul(pixels_to_um)\n",
    "#             actin_ub['X_um'] = actin_ub['X']*pixels_to_um\n",
    "#             actin_ub['Y_um'] = actin_ub['Y']*pixels_to_um\n",
    "#             actin_ub['Z_um'] = actin_ub['Z']*pixels_to_um            \n",
    "            actin_ub['dataset'] = cur_path\n",
    "            all_unbranched_filaments = pd.concat([all_unbranched_filaments, actin_ub])\n",
    "\n",
    "\n",
    "    # membrane = read_text(membranefile, 'contour')\n",
    "    # membrane\n",
    "all_unbranched_filaments"
   ]
  },
  {
   "cell_type": "markdown",
   "id": "6a9b3e13-c8bc-4e59-a6e5-04fe485bc541",
   "metadata": {},
   "source": [
    "# Optionally convert to multi-index dataframe"
   ]
  },
  {
   "cell_type": "code",
   "execution_count": 35,
   "id": "61f610ae-927f-4f25-b20e-c40f321648d6",
   "metadata": {},
   "outputs": [
    {
     "data": {
      "text/html": [
       "<div>\n",
       "<style scoped>\n",
       "    .dataframe tbody tr th:only-of-type {\n",
       "        vertical-align: middle;\n",
       "    }\n",
       "\n",
       "    .dataframe tbody tr th {\n",
       "        vertical-align: top;\n",
       "    }\n",
       "\n",
       "    .dataframe thead th {\n",
       "        text-align: right;\n",
       "    }\n",
       "</style>\n",
       "<table border=\"1\" class=\"dataframe\">\n",
       "  <thead>\n",
       "    <tr style=\"text-align: right;\">\n",
       "      <th></th>\n",
       "      <th></th>\n",
       "      <th>X</th>\n",
       "      <th>Y</th>\n",
       "      <th>Z</th>\n",
       "    </tr>\n",
       "    <tr>\n",
       "      <th>dataset</th>\n",
       "      <th>fil</th>\n",
       "      <th></th>\n",
       "      <th></th>\n",
       "      <th></th>\n",
       "    </tr>\n",
       "  </thead>\n",
       "  <tbody>\n",
       "    <tr>\n",
       "      <th rowspan=\"5\" valign=\"top\">2018August_Tomo27/</th>\n",
       "      <th>1</th>\n",
       "      <td>0.07956</td>\n",
       "      <td>0.07170</td>\n",
       "      <td>0.00510</td>\n",
       "    </tr>\n",
       "    <tr>\n",
       "      <th>1</th>\n",
       "      <td>0.07926</td>\n",
       "      <td>0.06528</td>\n",
       "      <td>0.00600</td>\n",
       "    </tr>\n",
       "    <tr>\n",
       "      <th>1</th>\n",
       "      <td>0.07908</td>\n",
       "      <td>0.06390</td>\n",
       "      <td>0.00606</td>\n",
       "    </tr>\n",
       "    <tr>\n",
       "      <th>1</th>\n",
       "      <td>0.07920</td>\n",
       "      <td>0.06192</td>\n",
       "      <td>0.00612</td>\n",
       "    </tr>\n",
       "    <tr>\n",
       "      <th>1</th>\n",
       "      <td>0.07890</td>\n",
       "      <td>0.05946</td>\n",
       "      <td>0.00564</td>\n",
       "    </tr>\n",
       "    <tr>\n",
       "      <th>...</th>\n",
       "      <th>...</th>\n",
       "      <td>...</td>\n",
       "      <td>...</td>\n",
       "      <td>...</td>\n",
       "    </tr>\n",
       "    <tr>\n",
       "      <th rowspan=\"5\" valign=\"top\">2018November_32/</th>\n",
       "      <th>52</th>\n",
       "      <td>0.10554</td>\n",
       "      <td>0.03720</td>\n",
       "      <td>0.00264</td>\n",
       "    </tr>\n",
       "    <tr>\n",
       "      <th>52</th>\n",
       "      <td>0.10458</td>\n",
       "      <td>0.04428</td>\n",
       "      <td>0.00294</td>\n",
       "    </tr>\n",
       "    <tr>\n",
       "      <th>54</th>\n",
       "      <td>0.11322</td>\n",
       "      <td>0.03858</td>\n",
       "      <td>0.00522</td>\n",
       "    </tr>\n",
       "    <tr>\n",
       "      <th>54</th>\n",
       "      <td>0.11004</td>\n",
       "      <td>0.04050</td>\n",
       "      <td>0.00324</td>\n",
       "    </tr>\n",
       "    <tr>\n",
       "      <th>54</th>\n",
       "      <td>0.10698</td>\n",
       "      <td>0.04230</td>\n",
       "      <td>0.00138</td>\n",
       "    </tr>\n",
       "  </tbody>\n",
       "</table>\n",
       "<p>2002 rows × 3 columns</p>\n",
       "</div>"
      ],
      "text/plain": [
       "                              X        Y        Z\n",
       "dataset            fil                           \n",
       "2018August_Tomo27/ 1    0.07956  0.07170  0.00510\n",
       "                   1    0.07926  0.06528  0.00600\n",
       "                   1    0.07908  0.06390  0.00606\n",
       "                   1    0.07920  0.06192  0.00612\n",
       "                   1    0.07890  0.05946  0.00564\n",
       "...                         ...      ...      ...\n",
       "2018November_32/   52   0.10554  0.03720  0.00264\n",
       "                   52   0.10458  0.04428  0.00294\n",
       "                   54   0.11322  0.03858  0.00522\n",
       "                   54   0.11004  0.04050  0.00324\n",
       "                   54   0.10698  0.04230  0.00138\n",
       "\n",
       "[2002 rows x 3 columns]"
      ]
     },
     "execution_count": 35,
     "metadata": {},
     "output_type": "execute_result"
    }
   ],
   "source": [
    "all_unbranched_filaments_multi = all_unbranched_filaments.reset_index().set_index(['dataset','fil'])\n",
    "all_unbranched_filaments_multi.sort_index(inplace=True)\n",
    "\n",
    "all_branched_filaments_multi = all_branched_filaments.reset_index().set_index(['dataset','fil'])\n",
    "all_branched_filaments_multi.sort_index(inplace=True)\n",
    "\n",
    "\n",
    "all_unbranched_filaments_multi"
   ]
  },
  {
   "cell_type": "code",
   "execution_count": 36,
   "id": "619f42e3-abf3-45fe-a9d9-01bd36a9d53c",
   "metadata": {},
   "outputs": [],
   "source": [
    "# save\n",
    "all_unbranched_filaments.to_csv('tomogram_cme_all_unbranched_coordinates.csv')\n",
    "all_branched_filaments.to_csv('tomogram_cme_all_branched_coordinates.csv')\n",
    "\n",
    "all_unbranched_filaments_multi.to_pickle('tomogram_cme_all_unbranched_coordinates.pkl')\n",
    "all_branched_filaments_multi.to_pickle('tomogram_cme_all_branched_coordinates.pkl')"
   ]
  }
 ],
 "metadata": {
  "kernelspec": {
   "display_name": "subcell_analysis",
   "language": "python",
   "name": "python3"
  },
  "language_info": {
   "codemirror_mode": {
    "name": "ipython",
    "version": 3
   },
   "file_extension": ".py",
   "mimetype": "text/x-python",
   "name": "python",
   "nbconvert_exporter": "python",
   "pygments_lexer": "ipython3",
   "version": "3.10.13 (main, Sep 11 2023, 08:16:02) [Clang 14.0.6 ]"
  },
  "vscode": {
   "interpreter": {
    "hash": "2facc0689c4c7287c832a46fc9bf45ce3f999ed847e301401ede1a1516a82071"
   }
  }
 },
 "nbformat": 4,
 "nbformat_minor": 5
}
