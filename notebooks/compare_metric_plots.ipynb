{
 "cells": [
  {
   "cell_type": "code",
   "execution_count": null,
   "metadata": {},
   "outputs": [],
   "source": [
    "import numpy as np\n",
    "import pandas as pd\n",
    "import matplotlib.pyplot as plt\n",
    "\n",
    "from subcell_analysis.compression_analysis import COMPRESSIONMETRIC\n",
    "from subcell_analysis.compression_workflow_runner import compression_metrics_workflow\n",
    "\n",
    "from pathlib import Path"
   ]
  },
  {
   "cell_type": "code",
   "execution_count": null,
   "metadata": {},
   "outputs": [],
   "source": [
    "plt.rcdefaults()"
   ]
  },
  {
   "cell_type": "markdown",
   "metadata": {},
   "source": [
    "Set parameters"
   ]
  },
  {
   "cell_type": "code",
   "execution_count": null,
   "metadata": {},
   "outputs": [],
   "source": [
    "readdy_compression_velocities = [4.7, 15, 47, 150]\n",
    "# cytosim_compression_velocities = [0.15, 0.47434165, 1.5, 4.73413649, 15, 47.4341649, 150]\n",
    "cytosim_compression_velocities = [0.15, 0.47434165, 1.5, 4.7, 15, 47, 150]"
   ]
  },
  {
   "cell_type": "code",
   "execution_count": null,
   "metadata": {},
   "outputs": [],
   "source": [
    "metrics =  [COMPRESSIONMETRIC.NON_COPLANARITY, COMPRESSIONMETRIC.PEAK_ASYMMETRY, COMPRESSIONMETRIC.TOTAL_FIBER_TWIST]"
   ]
  },
  {
   "cell_type": "markdown",
   "metadata": {},
   "source": [
    "### Process cytosim data"
   ]
  },
  {
   "cell_type": "code",
   "execution_count": null,
   "metadata": {},
   "outputs": [],
   "source": [
    "df_path = Path(\"../data/dataframes\")"
   ]
  },
  {
   "cell_type": "code",
   "execution_count": null,
   "metadata": {},
   "outputs": [],
   "source": [
    "num_repeats = 5\n",
    "velocity_inds = range(3, 7)\n",
    "df_metrics = []\n",
    "for index in velocity_inds:\n",
    "    for repeat in range(num_repeats):\n",
    "        print(f\"Calculating metrics for velocity {cytosim_compression_velocities[index]} and repeat {repeat}\")\n",
    "        df = pd.read_csv(f\"{df_path}/cytosim_actin_compression_velocity_vary_compress_rate000{index}_repeat_{repeat}.csv\")\n",
    "        df = compression_metrics_workflow(df, metrics, signed=False)\n",
    "        metric_df = df.groupby(\"time\")[[metric.value for metric in metrics]].mean().reset_index()\n",
    "        metric_df[\"velocity\"] = cytosim_compression_velocities[index]\n",
    "        metric_df[\"repeat\"] = repeat\n",
    "        df_metrics.append(metric_df)\n",
    "        # break\n",
    "    # break\n",
    "df_cytosim = pd.concat(df_metrics)\n",
    "df_cytosim.to_csv(f\"{df_path}/cytosim_actin_compression_metrics_all_velocities_and_repeats.csv\")"
   ]
  },
  {
   "cell_type": "markdown",
   "metadata": {},
   "source": [
    "Load from saved data"
   ]
  },
  {
   "cell_type": "code",
   "execution_count": null,
   "metadata": {},
   "outputs": [],
   "source": [
    "# df_cytosim = pd.read_csv(f\"{df_path}/cytosim_actin_compression_metrics_all_velocities_and_repeats.csv\")"
   ]
  },
  {
   "cell_type": "markdown",
   "metadata": {},
   "source": [
    "### Process readdy data"
   ]
  },
  {
   "cell_type": "code",
   "execution_count": null,
   "metadata": {},
   "outputs": [],
   "source": [
    "num_repeats = 3\n",
    "df_metrics = []\n",
    "for velocity in readdy_compression_velocities:\n",
    "    for repeat in range(num_repeats):\n",
    "        file_path = df_path / f\"readdy_actin_compression_velocity_{velocity}_repeat_{repeat}.csv\"\n",
    "        if file_path.is_file():\n",
    "            df = pd.read_csv(file_path)\n",
    "        else:\n",
    "            continue\n",
    "        print(f\"Calculating metrics for velocity {velocity} and repeat {repeat}\")\n",
    "        df = compression_metrics_workflow(df, metrics, signed=False)\n",
    "        metric_df = df.groupby(\"time\")[[metric.value for metric in metrics]].mean().reset_index()\n",
    "        metric_df[\"velocity\"] = velocity\n",
    "        metric_df[\"repeat\"] = repeat\n",
    "        df_metrics.append(metric_df)\n",
    "\n",
    "df_readdy = pd.concat(df_metrics)\n",
    "df_readdy.to_csv(f\"{df_path}/readdy_actin_compression_metrics_all_velocities_and_repeats.csv\")"
   ]
  },
  {
   "cell_type": "markdown",
   "metadata": {},
   "source": [
    "Load from saved data"
   ]
  },
  {
   "cell_type": "code",
   "execution_count": null,
   "metadata": {},
   "outputs": [],
   "source": [
    "df_readdy = pd.read_csv(f\"{df_path}/readdy_actin_compression_metrics_all_velocities_and_repeats.csv\")"
   ]
  },
  {
   "cell_type": "markdown",
   "metadata": {},
   "source": [
    "Plot metrics for readdy and cytosim"
   ]
  },
  {
   "cell_type": "code",
   "execution_count": null,
   "metadata": {},
   "outputs": [],
   "source": [
    "figure_path = Path(\"../figures\")"
   ]
  },
  {
   "cell_type": "code",
   "execution_count": null,
   "metadata": {},
   "outputs": [],
   "source": [
    "df_cytosim[\"simulator\"] = \"cytosim\"\n",
    "df_readdy[\"simulator\"] = \"readdy\""
   ]
  },
  {
   "cell_type": "code",
   "execution_count": null,
   "metadata": {},
   "outputs": [],
   "source": [
    "df_combined = pd.concat([df_cytosim, df_readdy])"
   ]
  },
  {
   "cell_type": "code",
   "execution_count": null,
   "metadata": {},
   "outputs": [],
   "source": [
    "df_combined"
   ]
  },
  {
   "cell_type": "code",
   "execution_count": null,
   "metadata": {},
   "outputs": [],
   "source": [
    "color_map = {\n",
    "    \"cytosim\": \"C0\",\n",
    "    \"readdy\": \"C1\"\n",
    "}"
   ]
  },
  {
   "cell_type": "code",
   "execution_count": null,
   "metadata": {},
   "outputs": [],
   "source": [
    "num_velocities = df_combined[\"velocity\"].nunique()\n",
    "for metric in metrics:\n",
    "    fig, axs = plt.subplots(1, num_velocities, figsize=(num_velocities * 5, 5), sharey=True, dpi=300)\n",
    "    for ct, (velocity, df_velocity) in enumerate(df_combined.groupby(\"velocity\")):\n",
    "        for simulator, df_simulator in df_velocity.groupby(\"simulator\"):\n",
    "            for repeat, df_repeat in df_simulator.groupby(\"repeat\"):\n",
    "                # print(f\"Velocity: {velocity}, simulator: {simulator}, repeat: {repeat}, min time: {df_repeat['time'].min()}, max time: {df_repeat['time'].max()}, nsteps: {len(df_repeat)}\")\n",
    "                if repeat == 0:\n",
    "                    label = f\"{simulator}\"\n",
    "                else:\n",
    "                    label = \"_nolegend_\"\n",
    "                axs[ct].plot(\n",
    "                    np.linspace(0, 1, len(df_repeat)),\n",
    "                    # df_repeat[\"time\"] * time_scale,\n",
    "                    df_repeat[metric.value],\n",
    "                    label=label,\n",
    "                    color=color_map[simulator],\n",
    "                    alpha=0.7,\n",
    "                )\n",
    "        axs[ct].legend()\n",
    "        axs[ct].set_title(f\"Velocity: {velocity}\")\n",
    "        if ct == 0:\n",
    "            axs[ct].set_ylabel(metric.value)\n",
    "    fig.supxlabel(\"Normalized time\")\n",
    "    fig.suptitle(f\"{metric.value}\")\n",
    "    plt.tight_layout()\n",
    "    fig.savefig(figure_path / f\"all_simulators_{metric.value}_vs_time.png\")"
   ]
  },
  {
   "cell_type": "code",
   "execution_count": null,
   "metadata": {},
   "outputs": [],
   "source": [
    "# df_readdy.groupby([\"velocity\", \"repeat\"]).agg(\"size\")"
   ]
  },
  {
   "cell_type": "code",
   "execution_count": null,
   "metadata": {},
   "outputs": [],
   "source": [
    "# df_cytosim.groupby([\"velocity\", \"repeat\"]).agg(\"size\")"
   ]
  },
  {
   "cell_type": "code",
   "execution_count": null,
   "metadata": {},
   "outputs": [],
   "source": [
    "df_combined[\"TOTAL_FIBER_TWIST\"].hist(bins=[0.5,1.5,2.5,3.5])"
   ]
  },
  {
   "cell_type": "code",
   "execution_count": null,
   "metadata": {},
   "outputs": [],
   "source": []
  }
 ],
 "metadata": {
  "kernelspec": {
   "display_name": "subcell_analysis",
   "language": "python",
   "name": "python3"
  },
  "language_info": {
   "codemirror_mode": {
    "name": "ipython",
    "version": 3
   },
   "file_extension": ".py",
   "mimetype": "text/x-python",
   "name": "python",
   "nbconvert_exporter": "python",
   "pygments_lexer": "ipython3",
   "version": "3.10.12"
  }
 },
 "nbformat": 4,
 "nbformat_minor": 2
}
